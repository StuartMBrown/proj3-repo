{
 "cells": [
  {
   "cell_type": "code",
   "execution_count": null,
   "metadata": {},
   "outputs": [],
   "source": [
    "#Example\n",
    "\n",
    "import plotly.express as px\n",
    "\n",
    "# Data\n",
    "data = dict(\n",
    "    category=[\"Illinois\", \"Threatened\", \"Indiana\"\n",
    "              ],\n",
    "    parent=[\"\", \"Illinois\", \"Threatened\", \"Threatened\", \"Threatened\", \"Threatened\", \"Illinois\", \"Endangered\", \"Endangered\", \"Endangered\", \"Endangered\", \"Endangered\", \"Endangered\", \"Endangered\", \"Endangered\", \"Endangered\", \"Endangered\", \"Endangered\", \"Endangered\", \"Endangered\", \"Endangered\", \"Endangered\", \"Endangered\", \"Endangered\", \"Endangered\", \"Threatened\", \"Threatened\", \"Threatened\", \"Threatened\", \"Threatened\", \"Threatened\", \"Threatened\", \"Threatened\", \"Threatened\", \"Threatened\", \"Threatened\", \"Threatened\", \"Threatened\", \"Threatened\", \"Threatened\", \"Threatened\", \"Threatened\", \"Threatened\", \"Threatened\", \"Threatened\", \"Threatened\", \"Threatened\", \"Threatened\", \"Threatened\", \"Threatened\", \"Threatened\", \"Threatened\", \"Threatened\", \"Threatened\", \"Threatened\", \"Threatened\", \"Threatened\", \"Threatened\", \"Threatened\", \"Threatened\", \"Threatened\", \"Threatened\", \"Threatened\", \"Threatened\", \"Threatened\", \"Threatened\", \"Threatened\", \"Threatened\", \"Threatened\", \"Threatened\", \"Threatened\", \"Threatened\", \"Reptiles\", \"Threatened\", \"Endangered\", \"Threatened\", \"Mammals\", \"Endangered\"],\n",
    "    value=[\"Illinois\", 40, 15, 10, 8, 7, 60, 25, 10, 15, 10, 3, 3, 3, 3, 4, 4, 4, 4, 4, 5, 5, 5, 3, 3, 3, 3, 5, 3, 4, 5, 3, 3, 3, 3, 3, 3, 3, 3, 4, 3, 3, 3, 3, 3, 3, 3, 3, 3, 3, 3, 3, 3, 3, 3, 3, 3, 3, 3, 3, 3, 3, 3, 3, 3, 3, 3, 3, 3, 3, 3, 3, 3, 3, 3, 3, 3, 3, 3, 3, 3, 3, 3, 3, 3, 3]\n",
    ")\n",
    "\n",
    "# Create sunburst chart\n",
    "fig = px.sunburst(\n",
    "    data,\n",
    "    names='category',\n",
    "    parents='parent',\n",
    "    values='value',\n",
    ")\n",
    "\n",
    "# Update layout\n",
    "fig.update_layout(\n",
    "    title=\"Endangered and Threatened Species in Illinois\",\n",
    "    margin=dict(l=0, r=0, b=0, t=40),\n",
    ")\n",
    "\n",
    "# Show the chart\n",
    "fig.show()"
   ]
  },
  {
   "cell_type": "code",
   "execution_count": null,
   "metadata": {},
   "outputs": [],
   "source": [
    "import pandas as pd\n",
    "df = pd.read_csv(\"speciesIL.csv\")\n",
    "df"
   ]
  },
  {
   "cell_type": "code",
   "execution_count": null,
   "metadata": {},
   "outputs": [],
   "source": [
    "import plotly.express as px\n",
    "df[\"root\"] = \"Illinois\"\n",
    "fig = px.sunburst(df, path=['root', 'group_name', 'common_name'])\n",
    "fig.show()"
   ]
  },
  {
   "cell_type": "code",
   "execution_count": null,
   "metadata": {},
   "outputs": [],
   "source": [
    "import pandas as pd\n",
    "df = pd.read_csv(\"speciesIN.csv\")\n",
    "df"
   ]
  },
  {
   "cell_type": "code",
   "execution_count": null,
   "metadata": {},
   "outputs": [],
   "source": [
    "import plotly.express as px\n",
    "df[\"root\"] = \"Indiana\"\n",
    "fig = px.sunburst(df, path=['root', 'ESA_listing_status', 'common_name'])\n",
    "fig.show()"
   ]
  },
  {
   "cell_type": "code",
   "execution_count": null,
   "metadata": {},
   "outputs": [],
   "source": [
    "import pandas as pd\n",
    "df = pd.read_csv(\"speciesMI.csv\")\n",
    "df"
   ]
  },
  {
   "cell_type": "code",
   "execution_count": null,
   "metadata": {},
   "outputs": [],
   "source": [
    "import plotly.express as px\n",
    "df[\"root\"] = \"Michigan\"\n",
    "fig = px.sunburst(df, path=['root', 'ESA_listing_status', 'common_name'])\n",
    "fig.show()"
   ]
  },
  {
   "cell_type": "code",
   "execution_count": null,
   "metadata": {},
   "outputs": [],
   "source": []
  }
 ],
 "metadata": {
  "kernelspec": {
   "display_name": "base",
   "language": "python",
   "name": "python3"
  },
  "language_info": {
   "codemirror_mode": {
    "name": "ipython",
    "version": 3
   },
   "file_extension": ".py",
   "mimetype": "text/x-python",
   "name": "python",
   "nbconvert_exporter": "python",
   "pygments_lexer": "ipython3",
   "version": "3.10.13"
  }
 },
 "nbformat": 4,
 "nbformat_minor": 2
}
