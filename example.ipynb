{
 "cells": [
  {
   "cell_type": "code",
   "execution_count": null,
   "metadata": {},
   "outputs": [],
   "source": [
    "#Example\n",
    "\n",
    "import plotly.express as px\n",
    "\n",
    "# Data\n",
    "data = dict(\n",
    "    category=[\"Illinois\", \"Threatened\", \"Indiana\"\n",
    "              ],\n",
    "    parent=[\"\", \"Illinois\", \"Threatened\", \"Threatened\", \"Threatened\", \"Threatened\", \"Illinois\", \"Endangered\", \"Endangered\", \"Endangered\", \"Endangered\", \"Endangered\", \"Endangered\", \"Endangered\", \"Endangered\", \"Endangered\", \"Endangered\", \"Endangered\", \"Endangered\", \"Endangered\", \"Endangered\", \"Endangered\", \"Endangered\", \"Endangered\", \"Endangered\", \"Threatened\", \"Threatened\", \"Threatened\", \"Threatened\", \"Threatened\", \"Threatened\", \"Threatened\", \"Threatened\", \"Threatened\", \"Threatened\", \"Threatened\", \"Threatened\", \"Threatened\", \"Threatened\", \"Threatened\", \"Threatened\", \"Threatened\", \"Threatened\", \"Threatened\", \"Threatened\", \"Threatened\", \"Threatened\", \"Threatened\", \"Threatened\", \"Threatened\", \"Threatened\", \"Threatened\", \"Threatened\", \"Threatened\", \"Threatened\", \"Threatened\", \"Threatened\", \"Threatened\", \"Threatened\", \"Threatened\", \"Threatened\", \"Threatened\", \"Threatened\", \"Threatened\", \"Threatened\", \"Threatened\", \"Threatened\", \"Threatened\", \"Threatened\", \"Threatened\", \"Threatened\", \"Threatened\", \"Reptiles\", \"Threatened\", \"Endangered\", \"Threatened\", \"Mammals\", \"Endangered\"],\n",
    "    value=[\"Illinois\", 40, 15, 10, 8, 7, 60, 25, 10, 15, 10, 3, 3, 3, 3, 4, 4, 4, 4, 4, 5, 5, 5, 3, 3, 3, 3, 5, 3, 4, 5, 3, 3, 3, 3, 3, 3, 3, 3, 4, 3, 3, 3, 3, 3, 3, 3, 3, 3, 3, 3, 3, 3, 3, 3, 3, 3, 3, 3, 3, 3, 3, 3, 3, 3, 3, 3, 3, 3, 3, 3, 3, 3, 3, 3, 3, 3, 3, 3, 3, 3, 3, 3, 3, 3, 3]\n",
    ")\n",
    "\n",
    "# Create sunburst chart\n",
    "fig = px.sunburst(\n",
    "    data,\n",
    "    names='category',\n",
    "    parents='parent',\n",
    "    values='value',\n",
    ")\n",
    "\n",
    "# Update layout\n",
    "fig.update_layout(\n",
    "    title=\"Endangered and Threatened Species in Illinois\",\n",
    "    margin=dict(l=0, r=0, b=0, t=40),\n",
    ")\n",
    "\n",
    "# Show the chart\n",
    "fig.show()"
   ]
  },
  {
   "cell_type": "code",
   "execution_count": 1,
   "metadata": {},
   "outputs": [
    {
     "data": {
      "text/html": [
       "<div>\n",
       "<style scoped>\n",
       "    .dataframe tbody tr th:only-of-type {\n",
       "        vertical-align: middle;\n",
       "    }\n",
       "\n",
       "    .dataframe tbody tr th {\n",
       "        vertical-align: top;\n",
       "    }\n",
       "\n",
       "    .dataframe thead th {\n",
       "        text-align: right;\n",
       "    }\n",
       "</style>\n",
       "<table border=\"1\" class=\"dataframe\">\n",
       "  <thead>\n",
       "    <tr style=\"text-align: right;\">\n",
       "      <th></th>\n",
       "      <th>scientific_name</th>\n",
       "      <th>common_name</th>\n",
       "      <th>where_listed</th>\n",
       "      <th>region</th>\n",
       "      <th>ESA_listing_status</th>\n",
       "      <th>group_name</th>\n",
       "    </tr>\n",
       "  </thead>\n",
       "  <tbody>\n",
       "    <tr>\n",
       "      <th>0</th>\n",
       "      <td>Myotis sodalis</td>\n",
       "      <td>Indiana bat</td>\n",
       "      <td>Wherever found</td>\n",
       "      <td>3</td>\n",
       "      <td>Endangered</td>\n",
       "      <td>Mammals</td>\n",
       "    </tr>\n",
       "    <tr>\n",
       "      <th>1</th>\n",
       "      <td>Myotis grisescens</td>\n",
       "      <td>Gray bat</td>\n",
       "      <td>Wherever found</td>\n",
       "      <td>3</td>\n",
       "      <td>Endangered</td>\n",
       "      <td>Mammals</td>\n",
       "    </tr>\n",
       "    <tr>\n",
       "      <th>2</th>\n",
       "      <td>Charadrius melodus</td>\n",
       "      <td>Piping Plover</td>\n",
       "      <td>[Great Lakes watershed DPS] - Great Lakes, wat...</td>\n",
       "      <td>3</td>\n",
       "      <td>Endangered</td>\n",
       "      <td>Birds</td>\n",
       "    </tr>\n",
       "    <tr>\n",
       "      <th>3</th>\n",
       "      <td>Scaphirhynchus albus</td>\n",
       "      <td>Pallid sturgeon</td>\n",
       "      <td>Wherever found</td>\n",
       "      <td>6</td>\n",
       "      <td>Endangered</td>\n",
       "      <td>Fishes</td>\n",
       "    </tr>\n",
       "    <tr>\n",
       "      <th>4</th>\n",
       "      <td>Lampsilis higginsii</td>\n",
       "      <td>Higgins eye (pearlymussel)</td>\n",
       "      <td>Wherever found</td>\n",
       "      <td>3</td>\n",
       "      <td>Endangered</td>\n",
       "      <td>Clams</td>\n",
       "    </tr>\n",
       "    <tr>\n",
       "      <th>5</th>\n",
       "      <td>Lampsilis abrupta</td>\n",
       "      <td>Pink mucket (pearlymussel)</td>\n",
       "      <td>Wherever found</td>\n",
       "      <td>3</td>\n",
       "      <td>Endangered</td>\n",
       "      <td>Clams</td>\n",
       "    </tr>\n",
       "    <tr>\n",
       "      <th>6</th>\n",
       "      <td>Plethobasus cooperianus</td>\n",
       "      <td>Orangefoot pimpleback (pearlymussel)</td>\n",
       "      <td>Wherever found</td>\n",
       "      <td>4</td>\n",
       "      <td>Endangered</td>\n",
       "      <td>Clams</td>\n",
       "    </tr>\n",
       "    <tr>\n",
       "      <th>7</th>\n",
       "      <td>Potamilus capax</td>\n",
       "      <td>Fat pocketbook</td>\n",
       "      <td>Wherever found</td>\n",
       "      <td>4</td>\n",
       "      <td>Endangered</td>\n",
       "      <td>Clams</td>\n",
       "    </tr>\n",
       "    <tr>\n",
       "      <th>8</th>\n",
       "      <td>Leptodea leptodon</td>\n",
       "      <td>Scaleshell mussel</td>\n",
       "      <td>Wherever found</td>\n",
       "      <td>3</td>\n",
       "      <td>Endangered</td>\n",
       "      <td>Clams</td>\n",
       "    </tr>\n",
       "    <tr>\n",
       "      <th>9</th>\n",
       "      <td>Pleurobema clava</td>\n",
       "      <td>Clubshell</td>\n",
       "      <td>Wherever found; Except where listed as Experim...</td>\n",
       "      <td>5</td>\n",
       "      <td>Endangered</td>\n",
       "      <td>Clams</td>\n",
       "    </tr>\n",
       "    <tr>\n",
       "      <th>10</th>\n",
       "      <td>Cyprogenia stegaria</td>\n",
       "      <td>Fanshell</td>\n",
       "      <td>Wherever found</td>\n",
       "      <td>4</td>\n",
       "      <td>Endangered</td>\n",
       "      <td>Clams</td>\n",
       "    </tr>\n",
       "    <tr>\n",
       "      <th>11</th>\n",
       "      <td>Epioblasma rangiana</td>\n",
       "      <td>Northern riffleshell</td>\n",
       "      <td>Wherever found</td>\n",
       "      <td>5</td>\n",
       "      <td>Endangered</td>\n",
       "      <td>Clams</td>\n",
       "    </tr>\n",
       "    <tr>\n",
       "      <th>12</th>\n",
       "      <td>Discus macclintocki</td>\n",
       "      <td>Iowa Pleistocene snail</td>\n",
       "      <td>Wherever found</td>\n",
       "      <td>3</td>\n",
       "      <td>Endangered</td>\n",
       "      <td>Snails</td>\n",
       "    </tr>\n",
       "    <tr>\n",
       "      <th>13</th>\n",
       "      <td>Lycaeides melissa samuelis</td>\n",
       "      <td>Karner blue butterfly</td>\n",
       "      <td>Wherever found</td>\n",
       "      <td>3</td>\n",
       "      <td>Endangered</td>\n",
       "      <td>Insects</td>\n",
       "    </tr>\n",
       "    <tr>\n",
       "      <th>14</th>\n",
       "      <td>Somatochlora hineana</td>\n",
       "      <td>Hine's emerald dragonfly</td>\n",
       "      <td>Wherever found</td>\n",
       "      <td>3</td>\n",
       "      <td>Endangered</td>\n",
       "      <td>Insects</td>\n",
       "    </tr>\n",
       "    <tr>\n",
       "      <th>15</th>\n",
       "      <td>Gammarus acherondytes</td>\n",
       "      <td>Illinois cave amphipod</td>\n",
       "      <td>Wherever found</td>\n",
       "      <td>3</td>\n",
       "      <td>Endangered</td>\n",
       "      <td>Crustaceans</td>\n",
       "    </tr>\n",
       "    <tr>\n",
       "      <th>16</th>\n",
       "      <td>Asclepias meadii</td>\n",
       "      <td>Mead's milkweed</td>\n",
       "      <td>Wherever found</td>\n",
       "      <td>3</td>\n",
       "      <td>Threatened</td>\n",
       "      <td>Flowering Plants</td>\n",
       "    </tr>\n",
       "    <tr>\n",
       "      <th>17</th>\n",
       "      <td>Boltonia decurrens</td>\n",
       "      <td>Decurrent false aster</td>\n",
       "      <td>Wherever found</td>\n",
       "      <td>3</td>\n",
       "      <td>Threatened</td>\n",
       "      <td>Flowering Plants</td>\n",
       "    </tr>\n",
       "    <tr>\n",
       "      <th>18</th>\n",
       "      <td>Cirsium pitcheri</td>\n",
       "      <td>Pitcher's thistle</td>\n",
       "      <td>Wherever found</td>\n",
       "      <td>3</td>\n",
       "      <td>Threatened</td>\n",
       "      <td>Flowering Plants</td>\n",
       "    </tr>\n",
       "    <tr>\n",
       "      <th>19</th>\n",
       "      <td>Dalea foliosa</td>\n",
       "      <td>Leafy prairie-clover</td>\n",
       "      <td>NaN</td>\n",
       "      <td>3</td>\n",
       "      <td>Endangered</td>\n",
       "      <td>Flowering Plants</td>\n",
       "    </tr>\n",
       "    <tr>\n",
       "      <th>20</th>\n",
       "      <td>Lespedeza leptostachya</td>\n",
       "      <td>Prairie bush-clover</td>\n",
       "      <td>Wherever found</td>\n",
       "      <td>3</td>\n",
       "      <td>Threatened</td>\n",
       "      <td>Flowering Plants</td>\n",
       "    </tr>\n",
       "    <tr>\n",
       "      <th>21</th>\n",
       "      <td>Platanthera leucophaea</td>\n",
       "      <td>Eastern prairie fringed orchid</td>\n",
       "      <td>Wherever found</td>\n",
       "      <td>3</td>\n",
       "      <td>Threatened</td>\n",
       "      <td>Flowering Plants</td>\n",
       "    </tr>\n",
       "    <tr>\n",
       "      <th>22</th>\n",
       "      <td>Hymenoxys herbacea</td>\n",
       "      <td>Lakeside daisy</td>\n",
       "      <td>Wherever found</td>\n",
       "      <td>3</td>\n",
       "      <td>Threatened</td>\n",
       "      <td>Flowering Plants</td>\n",
       "    </tr>\n",
       "    <tr>\n",
       "      <th>23</th>\n",
       "      <td>Quadrula cylindrica cylindrica</td>\n",
       "      <td>Rabbitsfoot</td>\n",
       "      <td>Wherever found</td>\n",
       "      <td>4</td>\n",
       "      <td>Threatened</td>\n",
       "      <td>Clams</td>\n",
       "    </tr>\n",
       "    <tr>\n",
       "      <th>24</th>\n",
       "      <td>Cumberlandia monodonta</td>\n",
       "      <td>Spectaclecase (mussel)</td>\n",
       "      <td>Wherever found</td>\n",
       "      <td>3</td>\n",
       "      <td>Endangered</td>\n",
       "      <td>Clams</td>\n",
       "    </tr>\n",
       "    <tr>\n",
       "      <th>25</th>\n",
       "      <td>Epioblasma triquetra</td>\n",
       "      <td>Snuffbox mussel</td>\n",
       "      <td>Wherever found</td>\n",
       "      <td>3</td>\n",
       "      <td>Endangered</td>\n",
       "      <td>Clams</td>\n",
       "    </tr>\n",
       "    <tr>\n",
       "      <th>26</th>\n",
       "      <td>Grus americana</td>\n",
       "      <td>Whooping crane</td>\n",
       "      <td>U.S.A. (AL, AR, CO, FL, GA, ID, IL, IN, IA, KY...</td>\n",
       "      <td>2</td>\n",
       "      <td>Experimental Population, Non-Essential</td>\n",
       "      <td>Birds</td>\n",
       "    </tr>\n",
       "    <tr>\n",
       "      <th>27</th>\n",
       "      <td>Sistrurus catenatus</td>\n",
       "      <td>Eastern Massasauga (=rattlesnake)</td>\n",
       "      <td>Wherever found</td>\n",
       "      <td>3</td>\n",
       "      <td>Threatened</td>\n",
       "      <td>Reptiles</td>\n",
       "    </tr>\n",
       "    <tr>\n",
       "      <th>28</th>\n",
       "      <td>Plethobasus cyphyus</td>\n",
       "      <td>Sheepnose Mussel</td>\n",
       "      <td>Wherever found</td>\n",
       "      <td>3</td>\n",
       "      <td>Endangered</td>\n",
       "      <td>Clams</td>\n",
       "    </tr>\n",
       "    <tr>\n",
       "      <th>29</th>\n",
       "      <td>Calidris canutus rufa</td>\n",
       "      <td>rufa red knot</td>\n",
       "      <td>Wherever found</td>\n",
       "      <td>5</td>\n",
       "      <td>Threatened</td>\n",
       "      <td>Birds</td>\n",
       "    </tr>\n",
       "    <tr>\n",
       "      <th>30</th>\n",
       "      <td>Myotis septentrionalis</td>\n",
       "      <td>Northern Long-Eared Bat</td>\n",
       "      <td>Wherever found</td>\n",
       "      <td>3</td>\n",
       "      <td>Endangered</td>\n",
       "      <td>Mammals</td>\n",
       "    </tr>\n",
       "    <tr>\n",
       "      <th>31</th>\n",
       "      <td>Bombus affinis</td>\n",
       "      <td>Rusty patched bumble bee</td>\n",
       "      <td>Wherever found</td>\n",
       "      <td>3</td>\n",
       "      <td>Endangered</td>\n",
       "      <td>Insects</td>\n",
       "    </tr>\n",
       "    <tr>\n",
       "      <th>32</th>\n",
       "      <td>Fusconaia subrotunda</td>\n",
       "      <td>Longsolid</td>\n",
       "      <td>Wherever found</td>\n",
       "      <td>4</td>\n",
       "      <td>Threatened</td>\n",
       "      <td>Clams</td>\n",
       "    </tr>\n",
       "  </tbody>\n",
       "</table>\n",
       "</div>"
      ],
      "text/plain": [
       "                   scientific_name                           common_name  \\\n",
       "0                   Myotis sodalis                           Indiana bat   \n",
       "1                Myotis grisescens                              Gray bat   \n",
       "2               Charadrius melodus                         Piping Plover   \n",
       "3             Scaphirhynchus albus                       Pallid sturgeon   \n",
       "4              Lampsilis higginsii            Higgins eye (pearlymussel)   \n",
       "5                Lampsilis abrupta            Pink mucket (pearlymussel)   \n",
       "6          Plethobasus cooperianus  Orangefoot pimpleback (pearlymussel)   \n",
       "7                  Potamilus capax                        Fat pocketbook   \n",
       "8                Leptodea leptodon                     Scaleshell mussel   \n",
       "9                 Pleurobema clava                             Clubshell   \n",
       "10             Cyprogenia stegaria                              Fanshell   \n",
       "11             Epioblasma rangiana                  Northern riffleshell   \n",
       "12             Discus macclintocki                Iowa Pleistocene snail   \n",
       "13      Lycaeides melissa samuelis                 Karner blue butterfly   \n",
       "14            Somatochlora hineana              Hine's emerald dragonfly   \n",
       "15           Gammarus acherondytes                Illinois cave amphipod   \n",
       "16                Asclepias meadii                       Mead's milkweed   \n",
       "17              Boltonia decurrens                 Decurrent false aster   \n",
       "18                Cirsium pitcheri                     Pitcher's thistle   \n",
       "19                   Dalea foliosa                  Leafy prairie-clover   \n",
       "20          Lespedeza leptostachya                   Prairie bush-clover   \n",
       "21          Platanthera leucophaea        Eastern prairie fringed orchid   \n",
       "22              Hymenoxys herbacea                        Lakeside daisy   \n",
       "23  Quadrula cylindrica cylindrica                           Rabbitsfoot   \n",
       "24          Cumberlandia monodonta                Spectaclecase (mussel)   \n",
       "25            Epioblasma triquetra                       Snuffbox mussel   \n",
       "26                  Grus americana                        Whooping crane   \n",
       "27             Sistrurus catenatus     Eastern Massasauga (=rattlesnake)   \n",
       "28             Plethobasus cyphyus                      Sheepnose Mussel   \n",
       "29           Calidris canutus rufa                         rufa red knot   \n",
       "30          Myotis septentrionalis               Northern Long-Eared Bat   \n",
       "31                  Bombus affinis              Rusty patched bumble bee   \n",
       "32            Fusconaia subrotunda                             Longsolid   \n",
       "\n",
       "                                         where_listed  region  \\\n",
       "0                                      Wherever found       3   \n",
       "1                                      Wherever found       3   \n",
       "2   [Great Lakes watershed DPS] - Great Lakes, wat...       3   \n",
       "3                                      Wherever found       6   \n",
       "4                                      Wherever found       3   \n",
       "5                                      Wherever found       3   \n",
       "6                                      Wherever found       4   \n",
       "7                                      Wherever found       4   \n",
       "8                                      Wherever found       3   \n",
       "9   Wherever found; Except where listed as Experim...       5   \n",
       "10                                     Wherever found       4   \n",
       "11                                     Wherever found       5   \n",
       "12                                     Wherever found       3   \n",
       "13                                     Wherever found       3   \n",
       "14                                     Wherever found       3   \n",
       "15                                     Wherever found       3   \n",
       "16                                     Wherever found       3   \n",
       "17                                     Wherever found       3   \n",
       "18                                     Wherever found       3   \n",
       "19                                                NaN       3   \n",
       "20                                     Wherever found       3   \n",
       "21                                     Wherever found       3   \n",
       "22                                     Wherever found       3   \n",
       "23                                     Wherever found       4   \n",
       "24                                     Wherever found       3   \n",
       "25                                     Wherever found       3   \n",
       "26  U.S.A. (AL, AR, CO, FL, GA, ID, IL, IN, IA, KY...       2   \n",
       "27                                     Wherever found       3   \n",
       "28                                     Wherever found       3   \n",
       "29                                     Wherever found       5   \n",
       "30                                     Wherever found       3   \n",
       "31                                     Wherever found       3   \n",
       "32                                     Wherever found       4   \n",
       "\n",
       "                        ESA_listing_status        group_name  \n",
       "0                               Endangered           Mammals  \n",
       "1                               Endangered           Mammals  \n",
       "2                               Endangered             Birds  \n",
       "3                               Endangered            Fishes  \n",
       "4                               Endangered             Clams  \n",
       "5                               Endangered             Clams  \n",
       "6                               Endangered             Clams  \n",
       "7                               Endangered             Clams  \n",
       "8                               Endangered             Clams  \n",
       "9                               Endangered             Clams  \n",
       "10                              Endangered             Clams  \n",
       "11                              Endangered             Clams  \n",
       "12                              Endangered            Snails  \n",
       "13                              Endangered           Insects  \n",
       "14                              Endangered           Insects  \n",
       "15                              Endangered       Crustaceans  \n",
       "16                              Threatened  Flowering Plants  \n",
       "17                              Threatened  Flowering Plants  \n",
       "18                              Threatened  Flowering Plants  \n",
       "19                              Endangered  Flowering Plants  \n",
       "20                              Threatened  Flowering Plants  \n",
       "21                              Threatened  Flowering Plants  \n",
       "22                              Threatened  Flowering Plants  \n",
       "23                              Threatened             Clams  \n",
       "24                              Endangered             Clams  \n",
       "25                              Endangered             Clams  \n",
       "26  Experimental Population, Non-Essential             Birds  \n",
       "27                              Threatened          Reptiles  \n",
       "28                              Endangered             Clams  \n",
       "29                              Threatened             Birds  \n",
       "30                              Endangered           Mammals  \n",
       "31                              Endangered           Insects  \n",
       "32                              Threatened             Clams  "
      ]
     },
     "execution_count": 1,
     "metadata": {},
     "output_type": "execute_result"
    }
   ],
   "source": [
    "import pandas as pd\n",
    "df = pd.read_csv(\"speciesIL.csv\")\n",
    "df"
   ]
  },
  {
   "cell_type": "code",
   "execution_count": 2,
   "metadata": {},
   "outputs": [
    {
     "data": {
      "application/vnd.plotly.v1+json": {
       "config": {
        "plotlyServerURL": "https://plot.ly"
       },
       "data": [
        {
         "branchvalues": "total",
         "domain": {
          "x": [
           0,
           1
          ],
          "y": [
           0,
           1
          ]
         },
         "hovertemplate": "labels=%{label}<br>count=%{value}<br>parent=%{parent}<br>id=%{id}<extra></extra>",
         "ids": [
          "Illinois/Clams/Clubshell",
          "Illinois/Flowering Plants/Decurrent false aster",
          "Illinois/Reptiles/Eastern Massasauga (=rattlesnake)",
          "Illinois/Flowering Plants/Eastern prairie fringed orchid",
          "Illinois/Clams/Fanshell",
          "Illinois/Clams/Fat pocketbook",
          "Illinois/Mammals/Gray bat",
          "Illinois/Clams/Higgins eye (pearlymussel)",
          "Illinois/Insects/Hine's emerald dragonfly",
          "Illinois/Crustaceans/Illinois cave amphipod",
          "Illinois/Mammals/Indiana bat",
          "Illinois/Snails/Iowa Pleistocene snail",
          "Illinois/Insects/Karner blue butterfly",
          "Illinois/Flowering Plants/Lakeside daisy",
          "Illinois/Flowering Plants/Leafy prairie-clover",
          "Illinois/Clams/Longsolid",
          "Illinois/Flowering Plants/Mead's milkweed",
          "Illinois/Mammals/Northern Long-Eared Bat",
          "Illinois/Clams/Northern riffleshell",
          "Illinois/Clams/Orangefoot pimpleback (pearlymussel)",
          "Illinois/Fishes/Pallid sturgeon",
          "Illinois/Clams/Pink mucket (pearlymussel)",
          "Illinois/Birds/Piping Plover",
          "Illinois/Flowering Plants/Pitcher's thistle",
          "Illinois/Flowering Plants/Prairie bush-clover",
          "Illinois/Clams/Rabbitsfoot",
          "Illinois/Insects/Rusty patched bumble bee",
          "Illinois/Clams/Scaleshell mussel",
          "Illinois/Clams/Sheepnose Mussel",
          "Illinois/Clams/Snuffbox mussel",
          "Illinois/Clams/Spectaclecase (mussel)",
          "Illinois/Birds/Whooping crane",
          "Illinois/Birds/rufa red knot",
          "Illinois/Birds",
          "Illinois/Clams",
          "Illinois/Crustaceans",
          "Illinois/Fishes",
          "Illinois/Flowering Plants",
          "Illinois/Insects",
          "Illinois/Mammals",
          "Illinois/Reptiles",
          "Illinois/Snails",
          "Illinois"
         ],
         "labels": [
          "Clubshell",
          "Decurrent false aster",
          "Eastern Massasauga (=rattlesnake)",
          "Eastern prairie fringed orchid",
          "Fanshell",
          "Fat pocketbook",
          "Gray bat",
          "Higgins eye (pearlymussel)",
          "Hine's emerald dragonfly",
          "Illinois cave amphipod",
          "Indiana bat",
          "Iowa Pleistocene snail",
          "Karner blue butterfly",
          "Lakeside daisy",
          "Leafy prairie-clover",
          "Longsolid",
          "Mead's milkweed",
          "Northern Long-Eared Bat",
          "Northern riffleshell",
          "Orangefoot pimpleback (pearlymussel)",
          "Pallid sturgeon",
          "Pink mucket (pearlymussel)",
          "Piping Plover",
          "Pitcher's thistle",
          "Prairie bush-clover",
          "Rabbitsfoot",
          "Rusty patched bumble bee",
          "Scaleshell mussel",
          "Sheepnose Mussel",
          "Snuffbox mussel",
          "Spectaclecase (mussel)",
          "Whooping crane",
          "rufa red knot",
          "Birds",
          "Clams",
          "Crustaceans",
          "Fishes",
          "Flowering Plants",
          "Insects",
          "Mammals",
          "Reptiles",
          "Snails",
          "Illinois"
         ],
         "name": "",
         "parents": [
          "Illinois/Clams",
          "Illinois/Flowering Plants",
          "Illinois/Reptiles",
          "Illinois/Flowering Plants",
          "Illinois/Clams",
          "Illinois/Clams",
          "Illinois/Mammals",
          "Illinois/Clams",
          "Illinois/Insects",
          "Illinois/Crustaceans",
          "Illinois/Mammals",
          "Illinois/Snails",
          "Illinois/Insects",
          "Illinois/Flowering Plants",
          "Illinois/Flowering Plants",
          "Illinois/Clams",
          "Illinois/Flowering Plants",
          "Illinois/Mammals",
          "Illinois/Clams",
          "Illinois/Clams",
          "Illinois/Fishes",
          "Illinois/Clams",
          "Illinois/Birds",
          "Illinois/Flowering Plants",
          "Illinois/Flowering Plants",
          "Illinois/Clams",
          "Illinois/Insects",
          "Illinois/Clams",
          "Illinois/Clams",
          "Illinois/Clams",
          "Illinois/Clams",
          "Illinois/Birds",
          "Illinois/Birds",
          "Illinois",
          "Illinois",
          "Illinois",
          "Illinois",
          "Illinois",
          "Illinois",
          "Illinois",
          "Illinois",
          "Illinois",
          ""
         ],
         "type": "sunburst",
         "values": [
          1,
          1,
          1,
          1,
          1,
          1,
          1,
          1,
          1,
          1,
          1,
          1,
          1,
          1,
          1,
          1,
          1,
          1,
          1,
          1,
          1,
          1,
          1,
          1,
          1,
          1,
          1,
          1,
          1,
          1,
          1,
          1,
          1,
          3,
          13,
          1,
          1,
          7,
          3,
          3,
          1,
          1,
          33
         ]
        }
       ],
       "layout": {
        "legend": {
         "tracegroupgap": 0
        },
        "margin": {
         "t": 60
        },
        "template": {
         "data": {
          "bar": [
           {
            "error_x": {
             "color": "#2a3f5f"
            },
            "error_y": {
             "color": "#2a3f5f"
            },
            "marker": {
             "line": {
              "color": "#E5ECF6",
              "width": 0.5
             },
             "pattern": {
              "fillmode": "overlay",
              "size": 10,
              "solidity": 0.2
             }
            },
            "type": "bar"
           }
          ],
          "barpolar": [
           {
            "marker": {
             "line": {
              "color": "#E5ECF6",
              "width": 0.5
             },
             "pattern": {
              "fillmode": "overlay",
              "size": 10,
              "solidity": 0.2
             }
            },
            "type": "barpolar"
           }
          ],
          "carpet": [
           {
            "aaxis": {
             "endlinecolor": "#2a3f5f",
             "gridcolor": "white",
             "linecolor": "white",
             "minorgridcolor": "white",
             "startlinecolor": "#2a3f5f"
            },
            "baxis": {
             "endlinecolor": "#2a3f5f",
             "gridcolor": "white",
             "linecolor": "white",
             "minorgridcolor": "white",
             "startlinecolor": "#2a3f5f"
            },
            "type": "carpet"
           }
          ],
          "choropleth": [
           {
            "colorbar": {
             "outlinewidth": 0,
             "ticks": ""
            },
            "type": "choropleth"
           }
          ],
          "contour": [
           {
            "colorbar": {
             "outlinewidth": 0,
             "ticks": ""
            },
            "colorscale": [
             [
              0,
              "#0d0887"
             ],
             [
              0.1111111111111111,
              "#46039f"
             ],
             [
              0.2222222222222222,
              "#7201a8"
             ],
             [
              0.3333333333333333,
              "#9c179e"
             ],
             [
              0.4444444444444444,
              "#bd3786"
             ],
             [
              0.5555555555555556,
              "#d8576b"
             ],
             [
              0.6666666666666666,
              "#ed7953"
             ],
             [
              0.7777777777777778,
              "#fb9f3a"
             ],
             [
              0.8888888888888888,
              "#fdca26"
             ],
             [
              1,
              "#f0f921"
             ]
            ],
            "type": "contour"
           }
          ],
          "contourcarpet": [
           {
            "colorbar": {
             "outlinewidth": 0,
             "ticks": ""
            },
            "type": "contourcarpet"
           }
          ],
          "heatmap": [
           {
            "colorbar": {
             "outlinewidth": 0,
             "ticks": ""
            },
            "colorscale": [
             [
              0,
              "#0d0887"
             ],
             [
              0.1111111111111111,
              "#46039f"
             ],
             [
              0.2222222222222222,
              "#7201a8"
             ],
             [
              0.3333333333333333,
              "#9c179e"
             ],
             [
              0.4444444444444444,
              "#bd3786"
             ],
             [
              0.5555555555555556,
              "#d8576b"
             ],
             [
              0.6666666666666666,
              "#ed7953"
             ],
             [
              0.7777777777777778,
              "#fb9f3a"
             ],
             [
              0.8888888888888888,
              "#fdca26"
             ],
             [
              1,
              "#f0f921"
             ]
            ],
            "type": "heatmap"
           }
          ],
          "heatmapgl": [
           {
            "colorbar": {
             "outlinewidth": 0,
             "ticks": ""
            },
            "colorscale": [
             [
              0,
              "#0d0887"
             ],
             [
              0.1111111111111111,
              "#46039f"
             ],
             [
              0.2222222222222222,
              "#7201a8"
             ],
             [
              0.3333333333333333,
              "#9c179e"
             ],
             [
              0.4444444444444444,
              "#bd3786"
             ],
             [
              0.5555555555555556,
              "#d8576b"
             ],
             [
              0.6666666666666666,
              "#ed7953"
             ],
             [
              0.7777777777777778,
              "#fb9f3a"
             ],
             [
              0.8888888888888888,
              "#fdca26"
             ],
             [
              1,
              "#f0f921"
             ]
            ],
            "type": "heatmapgl"
           }
          ],
          "histogram": [
           {
            "marker": {
             "pattern": {
              "fillmode": "overlay",
              "size": 10,
              "solidity": 0.2
             }
            },
            "type": "histogram"
           }
          ],
          "histogram2d": [
           {
            "colorbar": {
             "outlinewidth": 0,
             "ticks": ""
            },
            "colorscale": [
             [
              0,
              "#0d0887"
             ],
             [
              0.1111111111111111,
              "#46039f"
             ],
             [
              0.2222222222222222,
              "#7201a8"
             ],
             [
              0.3333333333333333,
              "#9c179e"
             ],
             [
              0.4444444444444444,
              "#bd3786"
             ],
             [
              0.5555555555555556,
              "#d8576b"
             ],
             [
              0.6666666666666666,
              "#ed7953"
             ],
             [
              0.7777777777777778,
              "#fb9f3a"
             ],
             [
              0.8888888888888888,
              "#fdca26"
             ],
             [
              1,
              "#f0f921"
             ]
            ],
            "type": "histogram2d"
           }
          ],
          "histogram2dcontour": [
           {
            "colorbar": {
             "outlinewidth": 0,
             "ticks": ""
            },
            "colorscale": [
             [
              0,
              "#0d0887"
             ],
             [
              0.1111111111111111,
              "#46039f"
             ],
             [
              0.2222222222222222,
              "#7201a8"
             ],
             [
              0.3333333333333333,
              "#9c179e"
             ],
             [
              0.4444444444444444,
              "#bd3786"
             ],
             [
              0.5555555555555556,
              "#d8576b"
             ],
             [
              0.6666666666666666,
              "#ed7953"
             ],
             [
              0.7777777777777778,
              "#fb9f3a"
             ],
             [
              0.8888888888888888,
              "#fdca26"
             ],
             [
              1,
              "#f0f921"
             ]
            ],
            "type": "histogram2dcontour"
           }
          ],
          "mesh3d": [
           {
            "colorbar": {
             "outlinewidth": 0,
             "ticks": ""
            },
            "type": "mesh3d"
           }
          ],
          "parcoords": [
           {
            "line": {
             "colorbar": {
              "outlinewidth": 0,
              "ticks": ""
             }
            },
            "type": "parcoords"
           }
          ],
          "pie": [
           {
            "automargin": true,
            "type": "pie"
           }
          ],
          "scatter": [
           {
            "fillpattern": {
             "fillmode": "overlay",
             "size": 10,
             "solidity": 0.2
            },
            "type": "scatter"
           }
          ],
          "scatter3d": [
           {
            "line": {
             "colorbar": {
              "outlinewidth": 0,
              "ticks": ""
             }
            },
            "marker": {
             "colorbar": {
              "outlinewidth": 0,
              "ticks": ""
             }
            },
            "type": "scatter3d"
           }
          ],
          "scattercarpet": [
           {
            "marker": {
             "colorbar": {
              "outlinewidth": 0,
              "ticks": ""
             }
            },
            "type": "scattercarpet"
           }
          ],
          "scattergeo": [
           {
            "marker": {
             "colorbar": {
              "outlinewidth": 0,
              "ticks": ""
             }
            },
            "type": "scattergeo"
           }
          ],
          "scattergl": [
           {
            "marker": {
             "colorbar": {
              "outlinewidth": 0,
              "ticks": ""
             }
            },
            "type": "scattergl"
           }
          ],
          "scattermapbox": [
           {
            "marker": {
             "colorbar": {
              "outlinewidth": 0,
              "ticks": ""
             }
            },
            "type": "scattermapbox"
           }
          ],
          "scatterpolar": [
           {
            "marker": {
             "colorbar": {
              "outlinewidth": 0,
              "ticks": ""
             }
            },
            "type": "scatterpolar"
           }
          ],
          "scatterpolargl": [
           {
            "marker": {
             "colorbar": {
              "outlinewidth": 0,
              "ticks": ""
             }
            },
            "type": "scatterpolargl"
           }
          ],
          "scatterternary": [
           {
            "marker": {
             "colorbar": {
              "outlinewidth": 0,
              "ticks": ""
             }
            },
            "type": "scatterternary"
           }
          ],
          "surface": [
           {
            "colorbar": {
             "outlinewidth": 0,
             "ticks": ""
            },
            "colorscale": [
             [
              0,
              "#0d0887"
             ],
             [
              0.1111111111111111,
              "#46039f"
             ],
             [
              0.2222222222222222,
              "#7201a8"
             ],
             [
              0.3333333333333333,
              "#9c179e"
             ],
             [
              0.4444444444444444,
              "#bd3786"
             ],
             [
              0.5555555555555556,
              "#d8576b"
             ],
             [
              0.6666666666666666,
              "#ed7953"
             ],
             [
              0.7777777777777778,
              "#fb9f3a"
             ],
             [
              0.8888888888888888,
              "#fdca26"
             ],
             [
              1,
              "#f0f921"
             ]
            ],
            "type": "surface"
           }
          ],
          "table": [
           {
            "cells": {
             "fill": {
              "color": "#EBF0F8"
             },
             "line": {
              "color": "white"
             }
            },
            "header": {
             "fill": {
              "color": "#C8D4E3"
             },
             "line": {
              "color": "white"
             }
            },
            "type": "table"
           }
          ]
         },
         "layout": {
          "annotationdefaults": {
           "arrowcolor": "#2a3f5f",
           "arrowhead": 0,
           "arrowwidth": 1
          },
          "autotypenumbers": "strict",
          "coloraxis": {
           "colorbar": {
            "outlinewidth": 0,
            "ticks": ""
           }
          },
          "colorscale": {
           "diverging": [
            [
             0,
             "#8e0152"
            ],
            [
             0.1,
             "#c51b7d"
            ],
            [
             0.2,
             "#de77ae"
            ],
            [
             0.3,
             "#f1b6da"
            ],
            [
             0.4,
             "#fde0ef"
            ],
            [
             0.5,
             "#f7f7f7"
            ],
            [
             0.6,
             "#e6f5d0"
            ],
            [
             0.7,
             "#b8e186"
            ],
            [
             0.8,
             "#7fbc41"
            ],
            [
             0.9,
             "#4d9221"
            ],
            [
             1,
             "#276419"
            ]
           ],
           "sequential": [
            [
             0,
             "#0d0887"
            ],
            [
             0.1111111111111111,
             "#46039f"
            ],
            [
             0.2222222222222222,
             "#7201a8"
            ],
            [
             0.3333333333333333,
             "#9c179e"
            ],
            [
             0.4444444444444444,
             "#bd3786"
            ],
            [
             0.5555555555555556,
             "#d8576b"
            ],
            [
             0.6666666666666666,
             "#ed7953"
            ],
            [
             0.7777777777777778,
             "#fb9f3a"
            ],
            [
             0.8888888888888888,
             "#fdca26"
            ],
            [
             1,
             "#f0f921"
            ]
           ],
           "sequentialminus": [
            [
             0,
             "#0d0887"
            ],
            [
             0.1111111111111111,
             "#46039f"
            ],
            [
             0.2222222222222222,
             "#7201a8"
            ],
            [
             0.3333333333333333,
             "#9c179e"
            ],
            [
             0.4444444444444444,
             "#bd3786"
            ],
            [
             0.5555555555555556,
             "#d8576b"
            ],
            [
             0.6666666666666666,
             "#ed7953"
            ],
            [
             0.7777777777777778,
             "#fb9f3a"
            ],
            [
             0.8888888888888888,
             "#fdca26"
            ],
            [
             1,
             "#f0f921"
            ]
           ]
          },
          "colorway": [
           "#636efa",
           "#EF553B",
           "#00cc96",
           "#ab63fa",
           "#FFA15A",
           "#19d3f3",
           "#FF6692",
           "#B6E880",
           "#FF97FF",
           "#FECB52"
          ],
          "font": {
           "color": "#2a3f5f"
          },
          "geo": {
           "bgcolor": "white",
           "lakecolor": "white",
           "landcolor": "#E5ECF6",
           "showlakes": true,
           "showland": true,
           "subunitcolor": "white"
          },
          "hoverlabel": {
           "align": "left"
          },
          "hovermode": "closest",
          "mapbox": {
           "style": "light"
          },
          "paper_bgcolor": "white",
          "plot_bgcolor": "#E5ECF6",
          "polar": {
           "angularaxis": {
            "gridcolor": "white",
            "linecolor": "white",
            "ticks": ""
           },
           "bgcolor": "#E5ECF6",
           "radialaxis": {
            "gridcolor": "white",
            "linecolor": "white",
            "ticks": ""
           }
          },
          "scene": {
           "xaxis": {
            "backgroundcolor": "#E5ECF6",
            "gridcolor": "white",
            "gridwidth": 2,
            "linecolor": "white",
            "showbackground": true,
            "ticks": "",
            "zerolinecolor": "white"
           },
           "yaxis": {
            "backgroundcolor": "#E5ECF6",
            "gridcolor": "white",
            "gridwidth": 2,
            "linecolor": "white",
            "showbackground": true,
            "ticks": "",
            "zerolinecolor": "white"
           },
           "zaxis": {
            "backgroundcolor": "#E5ECF6",
            "gridcolor": "white",
            "gridwidth": 2,
            "linecolor": "white",
            "showbackground": true,
            "ticks": "",
            "zerolinecolor": "white"
           }
          },
          "shapedefaults": {
           "line": {
            "color": "#2a3f5f"
           }
          },
          "ternary": {
           "aaxis": {
            "gridcolor": "white",
            "linecolor": "white",
            "ticks": ""
           },
           "baxis": {
            "gridcolor": "white",
            "linecolor": "white",
            "ticks": ""
           },
           "bgcolor": "#E5ECF6",
           "caxis": {
            "gridcolor": "white",
            "linecolor": "white",
            "ticks": ""
           }
          },
          "title": {
           "x": 0.05
          },
          "xaxis": {
           "automargin": true,
           "gridcolor": "white",
           "linecolor": "white",
           "ticks": "",
           "title": {
            "standoff": 15
           },
           "zerolinecolor": "white",
           "zerolinewidth": 2
          },
          "yaxis": {
           "automargin": true,
           "gridcolor": "white",
           "linecolor": "white",
           "ticks": "",
           "title": {
            "standoff": 15
           },
           "zerolinecolor": "white",
           "zerolinewidth": 2
          }
         }
        }
       }
      }
     },
     "metadata": {},
     "output_type": "display_data"
    }
   ],
   "source": [
    "import plotly.express as px\n",
    "df[\"root\"] = \"Illinois\"\n",
    "fig = px.sunburst(df, path=['root', 'group_name', 'common_name'])\n",
    "fig.show()"
   ]
  },
  {
   "cell_type": "code",
   "execution_count": 3,
   "metadata": {},
   "outputs": [
    {
     "data": {
      "text/html": [
       "<div>\n",
       "<style scoped>\n",
       "    .dataframe tbody tr th:only-of-type {\n",
       "        vertical-align: middle;\n",
       "    }\n",
       "\n",
       "    .dataframe tbody tr th {\n",
       "        vertical-align: top;\n",
       "    }\n",
       "\n",
       "    .dataframe thead th {\n",
       "        text-align: right;\n",
       "    }\n",
       "</style>\n",
       "<table border=\"1\" class=\"dataframe\">\n",
       "  <thead>\n",
       "    <tr style=\"text-align: right;\">\n",
       "      <th></th>\n",
       "      <th>scientific_name</th>\n",
       "      <th>common_name</th>\n",
       "      <th>where_listed</th>\n",
       "      <th>region</th>\n",
       "      <th>ESA_listing_status</th>\n",
       "      <th>group_name</th>\n",
       "    </tr>\n",
       "  </thead>\n",
       "  <tbody>\n",
       "    <tr>\n",
       "      <th>0</th>\n",
       "      <td>Myotis sodalis</td>\n",
       "      <td>Indiana bat</td>\n",
       "      <td>Wherever found</td>\n",
       "      <td>3</td>\n",
       "      <td>Endangered</td>\n",
       "      <td>Mammals</td>\n",
       "    </tr>\n",
       "    <tr>\n",
       "      <th>1</th>\n",
       "      <td>Myotis grisescens</td>\n",
       "      <td>Gray bat</td>\n",
       "      <td>Wherever found</td>\n",
       "      <td>3</td>\n",
       "      <td>Endangered</td>\n",
       "      <td>Mammals</td>\n",
       "    </tr>\n",
       "    <tr>\n",
       "      <th>2</th>\n",
       "      <td>Charadrius melodus</td>\n",
       "      <td>Piping Plover</td>\n",
       "      <td>[Great Lakes watershed DPS] - Great Lakes, wat...</td>\n",
       "      <td>3</td>\n",
       "      <td>Endangered</td>\n",
       "      <td>Birds</td>\n",
       "    </tr>\n",
       "    <tr>\n",
       "      <th>3</th>\n",
       "      <td>Nerodia erythrogaster neglecta</td>\n",
       "      <td>Copperbelly water snake</td>\n",
       "      <td>Indiana north of 40 degrees north latitude, Mi...</td>\n",
       "      <td>3</td>\n",
       "      <td>Threatened</td>\n",
       "      <td>Reptiles</td>\n",
       "    </tr>\n",
       "    <tr>\n",
       "      <th>4</th>\n",
       "      <td>Epioblasma perobliqua</td>\n",
       "      <td>White catspaw (pearlymussel)</td>\n",
       "      <td>Wherever found</td>\n",
       "      <td>3</td>\n",
       "      <td>Endangered</td>\n",
       "      <td>Clams</td>\n",
       "    </tr>\n",
       "    <tr>\n",
       "      <th>5</th>\n",
       "      <td>Lampsilis abrupta</td>\n",
       "      <td>Pink mucket (pearlymussel)</td>\n",
       "      <td>Wherever found</td>\n",
       "      <td>3</td>\n",
       "      <td>Endangered</td>\n",
       "      <td>Clams</td>\n",
       "    </tr>\n",
       "    <tr>\n",
       "      <th>6</th>\n",
       "      <td>Pleurobema plenum</td>\n",
       "      <td>Rough pigtoe</td>\n",
       "      <td>Wherever found</td>\n",
       "      <td>4</td>\n",
       "      <td>Endangered</td>\n",
       "      <td>Clams</td>\n",
       "    </tr>\n",
       "    <tr>\n",
       "      <th>7</th>\n",
       "      <td>Potamilus capax</td>\n",
       "      <td>Fat pocketbook</td>\n",
       "      <td>Wherever found</td>\n",
       "      <td>4</td>\n",
       "      <td>Endangered</td>\n",
       "      <td>Clams</td>\n",
       "    </tr>\n",
       "    <tr>\n",
       "      <th>8</th>\n",
       "      <td>Pleurobema clava</td>\n",
       "      <td>Clubshell</td>\n",
       "      <td>Wherever found; Except where listed as Experim...</td>\n",
       "      <td>5</td>\n",
       "      <td>Endangered</td>\n",
       "      <td>Clams</td>\n",
       "    </tr>\n",
       "    <tr>\n",
       "      <th>9</th>\n",
       "      <td>Cyprogenia stegaria</td>\n",
       "      <td>Fanshell</td>\n",
       "      <td>Wherever found</td>\n",
       "      <td>4</td>\n",
       "      <td>Endangered</td>\n",
       "      <td>Clams</td>\n",
       "    </tr>\n",
       "    <tr>\n",
       "      <th>10</th>\n",
       "      <td>Epioblasma rangiana</td>\n",
       "      <td>Northern riffleshell</td>\n",
       "      <td>Wherever found</td>\n",
       "      <td>5</td>\n",
       "      <td>Endangered</td>\n",
       "      <td>Clams</td>\n",
       "    </tr>\n",
       "    <tr>\n",
       "      <th>11</th>\n",
       "      <td>Lycaeides melissa samuelis</td>\n",
       "      <td>Karner blue butterfly</td>\n",
       "      <td>Wherever found</td>\n",
       "      <td>3</td>\n",
       "      <td>Endangered</td>\n",
       "      <td>Insects</td>\n",
       "    </tr>\n",
       "    <tr>\n",
       "      <th>12</th>\n",
       "      <td>Neonympha mitchellii mitchellii</td>\n",
       "      <td>Mitchell's satyr Butterfly</td>\n",
       "      <td>Wherever found</td>\n",
       "      <td>3</td>\n",
       "      <td>Endangered</td>\n",
       "      <td>Insects</td>\n",
       "    </tr>\n",
       "    <tr>\n",
       "      <th>13</th>\n",
       "      <td>Asclepias meadii</td>\n",
       "      <td>Mead's milkweed</td>\n",
       "      <td>Wherever found</td>\n",
       "      <td>3</td>\n",
       "      <td>Threatened</td>\n",
       "      <td>Flowering Plants</td>\n",
       "    </tr>\n",
       "    <tr>\n",
       "      <th>14</th>\n",
       "      <td>Solidago shortii</td>\n",
       "      <td>Short's goldenrod</td>\n",
       "      <td>Wherever found</td>\n",
       "      <td>4</td>\n",
       "      <td>Endangered</td>\n",
       "      <td>Flowering Plants</td>\n",
       "    </tr>\n",
       "    <tr>\n",
       "      <th>15</th>\n",
       "      <td>Cirsium pitcheri</td>\n",
       "      <td>Pitcher's thistle</td>\n",
       "      <td>Wherever found</td>\n",
       "      <td>3</td>\n",
       "      <td>Threatened</td>\n",
       "      <td>Flowering Plants</td>\n",
       "    </tr>\n",
       "    <tr>\n",
       "      <th>16</th>\n",
       "      <td>Platanthera leucophaea</td>\n",
       "      <td>Eastern prairie fringed orchid</td>\n",
       "      <td>Wherever found</td>\n",
       "      <td>3</td>\n",
       "      <td>Threatened</td>\n",
       "      <td>Flowering Plants</td>\n",
       "    </tr>\n",
       "    <tr>\n",
       "      <th>17</th>\n",
       "      <td>Helenium virginicum</td>\n",
       "      <td>Virginia sneezeweed</td>\n",
       "      <td>Wherever found</td>\n",
       "      <td>5</td>\n",
       "      <td>Threatened</td>\n",
       "      <td>Flowering Plants</td>\n",
       "    </tr>\n",
       "    <tr>\n",
       "      <th>18</th>\n",
       "      <td>Physaria globosa</td>\n",
       "      <td>Short's bladderpod</td>\n",
       "      <td>Wherever found</td>\n",
       "      <td>4</td>\n",
       "      <td>Endangered</td>\n",
       "      <td>Flowering Plants</td>\n",
       "    </tr>\n",
       "    <tr>\n",
       "      <th>19</th>\n",
       "      <td>Quadrula cylindrica cylindrica</td>\n",
       "      <td>Rabbitsfoot</td>\n",
       "      <td>Wherever found</td>\n",
       "      <td>4</td>\n",
       "      <td>Threatened</td>\n",
       "      <td>Clams</td>\n",
       "    </tr>\n",
       "    <tr>\n",
       "      <th>20</th>\n",
       "      <td>Epioblasma triquetra</td>\n",
       "      <td>Snuffbox mussel</td>\n",
       "      <td>Wherever found</td>\n",
       "      <td>3</td>\n",
       "      <td>Endangered</td>\n",
       "      <td>Clams</td>\n",
       "    </tr>\n",
       "    <tr>\n",
       "      <th>21</th>\n",
       "      <td>Villosa fabalis</td>\n",
       "      <td>Rayed Bean</td>\n",
       "      <td>Wherever found</td>\n",
       "      <td>3</td>\n",
       "      <td>Endangered</td>\n",
       "      <td>Clams</td>\n",
       "    </tr>\n",
       "    <tr>\n",
       "      <th>22</th>\n",
       "      <td>Grus americana</td>\n",
       "      <td>Whooping crane</td>\n",
       "      <td>U.S.A. (AL, AR, CO, FL, GA, ID, IL, IN, IA, KY...</td>\n",
       "      <td>2</td>\n",
       "      <td>Experimental Population, Non-Essential</td>\n",
       "      <td>Birds</td>\n",
       "    </tr>\n",
       "    <tr>\n",
       "      <th>23</th>\n",
       "      <td>Sistrurus catenatus</td>\n",
       "      <td>Eastern Massasauga (=rattlesnake)</td>\n",
       "      <td>Wherever found</td>\n",
       "      <td>3</td>\n",
       "      <td>Threatened</td>\n",
       "      <td>Reptiles</td>\n",
       "    </tr>\n",
       "    <tr>\n",
       "      <th>24</th>\n",
       "      <td>Plethobasus cyphyus</td>\n",
       "      <td>Sheepnose Mussel</td>\n",
       "      <td>Wherever found</td>\n",
       "      <td>3</td>\n",
       "      <td>Endangered</td>\n",
       "      <td>Clams</td>\n",
       "    </tr>\n",
       "    <tr>\n",
       "      <th>25</th>\n",
       "      <td>Calidris canutus rufa</td>\n",
       "      <td>rufa red knot</td>\n",
       "      <td>Wherever found</td>\n",
       "      <td>5</td>\n",
       "      <td>Threatened</td>\n",
       "      <td>Birds</td>\n",
       "    </tr>\n",
       "    <tr>\n",
       "      <th>26</th>\n",
       "      <td>Myotis septentrionalis</td>\n",
       "      <td>Northern Long-Eared Bat</td>\n",
       "      <td>Wherever found</td>\n",
       "      <td>3</td>\n",
       "      <td>Endangered</td>\n",
       "      <td>Mammals</td>\n",
       "    </tr>\n",
       "    <tr>\n",
       "      <th>27</th>\n",
       "      <td>Bombus affinis</td>\n",
       "      <td>Rusty patched bumble bee</td>\n",
       "      <td>Wherever found</td>\n",
       "      <td>3</td>\n",
       "      <td>Endangered</td>\n",
       "      <td>Insects</td>\n",
       "    </tr>\n",
       "    <tr>\n",
       "      <th>28</th>\n",
       "      <td>Obovaria subrotunda</td>\n",
       "      <td>Round hickorynut</td>\n",
       "      <td>Wherever found</td>\n",
       "      <td>3</td>\n",
       "      <td>Threatened</td>\n",
       "      <td>Clams</td>\n",
       "    </tr>\n",
       "    <tr>\n",
       "      <th>29</th>\n",
       "      <td>Fusconaia subrotunda</td>\n",
       "      <td>Longsolid</td>\n",
       "      <td>Wherever found</td>\n",
       "      <td>4</td>\n",
       "      <td>Threatened</td>\n",
       "      <td>Clams</td>\n",
       "    </tr>\n",
       "    <tr>\n",
       "      <th>30</th>\n",
       "      <td>Laterallus jamaicensis ssp. jamaicensis</td>\n",
       "      <td>Eastern Black rail</td>\n",
       "      <td>Wherever found</td>\n",
       "      <td>4</td>\n",
       "      <td>Threatened</td>\n",
       "      <td>Birds</td>\n",
       "    </tr>\n",
       "  </tbody>\n",
       "</table>\n",
       "</div>"
      ],
      "text/plain": [
       "                            scientific_name  \\\n",
       "0                            Myotis sodalis   \n",
       "1                         Myotis grisescens   \n",
       "2                        Charadrius melodus   \n",
       "3            Nerodia erythrogaster neglecta   \n",
       "4                     Epioblasma perobliqua   \n",
       "5                         Lampsilis abrupta   \n",
       "6                         Pleurobema plenum   \n",
       "7                           Potamilus capax   \n",
       "8                          Pleurobema clava   \n",
       "9                       Cyprogenia stegaria   \n",
       "10                      Epioblasma rangiana   \n",
       "11               Lycaeides melissa samuelis   \n",
       "12          Neonympha mitchellii mitchellii   \n",
       "13                         Asclepias meadii   \n",
       "14                         Solidago shortii   \n",
       "15                         Cirsium pitcheri   \n",
       "16                   Platanthera leucophaea   \n",
       "17                      Helenium virginicum   \n",
       "18                         Physaria globosa   \n",
       "19           Quadrula cylindrica cylindrica   \n",
       "20                     Epioblasma triquetra   \n",
       "21                          Villosa fabalis   \n",
       "22                           Grus americana   \n",
       "23                      Sistrurus catenatus   \n",
       "24                      Plethobasus cyphyus   \n",
       "25                    Calidris canutus rufa   \n",
       "26                   Myotis septentrionalis   \n",
       "27                           Bombus affinis   \n",
       "28                      Obovaria subrotunda   \n",
       "29                     Fusconaia subrotunda   \n",
       "30  Laterallus jamaicensis ssp. jamaicensis   \n",
       "\n",
       "                          common_name  \\\n",
       "0                         Indiana bat   \n",
       "1                            Gray bat   \n",
       "2                       Piping Plover   \n",
       "3             Copperbelly water snake   \n",
       "4        White catspaw (pearlymussel)   \n",
       "5          Pink mucket (pearlymussel)   \n",
       "6                        Rough pigtoe   \n",
       "7                      Fat pocketbook   \n",
       "8                           Clubshell   \n",
       "9                            Fanshell   \n",
       "10               Northern riffleshell   \n",
       "11              Karner blue butterfly   \n",
       "12         Mitchell's satyr Butterfly   \n",
       "13                    Mead's milkweed   \n",
       "14                  Short's goldenrod   \n",
       "15                  Pitcher's thistle   \n",
       "16     Eastern prairie fringed orchid   \n",
       "17                Virginia sneezeweed   \n",
       "18                 Short's bladderpod   \n",
       "19                        Rabbitsfoot   \n",
       "20                    Snuffbox mussel   \n",
       "21                         Rayed Bean   \n",
       "22                     Whooping crane   \n",
       "23  Eastern Massasauga (=rattlesnake)   \n",
       "24                   Sheepnose Mussel   \n",
       "25                      rufa red knot   \n",
       "26            Northern Long-Eared Bat   \n",
       "27           Rusty patched bumble bee   \n",
       "28                   Round hickorynut   \n",
       "29                          Longsolid   \n",
       "30                 Eastern Black rail   \n",
       "\n",
       "                                         where_listed  region  \\\n",
       "0                                      Wherever found       3   \n",
       "1                                      Wherever found       3   \n",
       "2   [Great Lakes watershed DPS] - Great Lakes, wat...       3   \n",
       "3   Indiana north of 40 degrees north latitude, Mi...       3   \n",
       "4                                      Wherever found       3   \n",
       "5                                      Wherever found       3   \n",
       "6                                      Wherever found       4   \n",
       "7                                      Wherever found       4   \n",
       "8   Wherever found; Except where listed as Experim...       5   \n",
       "9                                      Wherever found       4   \n",
       "10                                     Wherever found       5   \n",
       "11                                     Wherever found       3   \n",
       "12                                     Wherever found       3   \n",
       "13                                     Wherever found       3   \n",
       "14                                     Wherever found       4   \n",
       "15                                     Wherever found       3   \n",
       "16                                     Wherever found       3   \n",
       "17                                     Wherever found       5   \n",
       "18                                     Wherever found       4   \n",
       "19                                     Wherever found       4   \n",
       "20                                     Wherever found       3   \n",
       "21                                     Wherever found       3   \n",
       "22  U.S.A. (AL, AR, CO, FL, GA, ID, IL, IN, IA, KY...       2   \n",
       "23                                     Wherever found       3   \n",
       "24                                     Wherever found       3   \n",
       "25                                     Wherever found       5   \n",
       "26                                     Wherever found       3   \n",
       "27                                     Wherever found       3   \n",
       "28                                     Wherever found       3   \n",
       "29                                     Wherever found       4   \n",
       "30                                     Wherever found       4   \n",
       "\n",
       "                        ESA_listing_status        group_name  \n",
       "0                               Endangered           Mammals  \n",
       "1                               Endangered           Mammals  \n",
       "2                               Endangered             Birds  \n",
       "3                               Threatened          Reptiles  \n",
       "4                               Endangered             Clams  \n",
       "5                               Endangered             Clams  \n",
       "6                               Endangered             Clams  \n",
       "7                               Endangered             Clams  \n",
       "8                               Endangered             Clams  \n",
       "9                               Endangered             Clams  \n",
       "10                              Endangered             Clams  \n",
       "11                              Endangered           Insects  \n",
       "12                              Endangered           Insects  \n",
       "13                              Threatened  Flowering Plants  \n",
       "14                              Endangered  Flowering Plants  \n",
       "15                              Threatened  Flowering Plants  \n",
       "16                              Threatened  Flowering Plants  \n",
       "17                              Threatened  Flowering Plants  \n",
       "18                              Endangered  Flowering Plants  \n",
       "19                              Threatened             Clams  \n",
       "20                              Endangered             Clams  \n",
       "21                              Endangered             Clams  \n",
       "22  Experimental Population, Non-Essential             Birds  \n",
       "23                              Threatened          Reptiles  \n",
       "24                              Endangered             Clams  \n",
       "25                              Threatened             Birds  \n",
       "26                              Endangered           Mammals  \n",
       "27                              Endangered           Insects  \n",
       "28                              Threatened             Clams  \n",
       "29                              Threatened             Clams  \n",
       "30                              Threatened             Birds  "
      ]
     },
     "execution_count": 3,
     "metadata": {},
     "output_type": "execute_result"
    }
   ],
   "source": [
    "import pandas as pd\n",
    "df = pd.read_csv(\"speciesIN.csv\")\n",
    "df"
   ]
  },
  {
   "cell_type": "code",
   "execution_count": 7,
   "metadata": {},
   "outputs": [
    {
     "data": {
      "application/vnd.plotly.v1+json": {
       "config": {
        "plotlyServerURL": "https://plot.ly"
       },
       "data": [
        {
         "branchvalues": "total",
         "domain": {
          "x": [
           0,
           1
          ],
          "y": [
           0,
           1
          ]
         },
         "hovertemplate": "labels=%{label}<br>count=%{value}<br>parent=%{parent}<br>id=%{id}<extra></extra>",
         "ids": [
          "Indiana/Endangered/Clubshell",
          "Indiana/Threatened/Copperbelly water snake",
          "Indiana/Threatened/Eastern Black rail",
          "Indiana/Threatened/Eastern Massasauga (=rattlesnake)",
          "Indiana/Threatened/Eastern prairie fringed orchid",
          "Indiana/Endangered/Fanshell",
          "Indiana/Endangered/Fat pocketbook",
          "Indiana/Endangered/Gray bat",
          "Indiana/Endangered/Indiana bat",
          "Indiana/Endangered/Karner blue butterfly",
          "Indiana/Threatened/Longsolid",
          "Indiana/Threatened/Mead's milkweed",
          "Indiana/Endangered/Mitchell's satyr Butterfly",
          "Indiana/Endangered/Northern Long-Eared Bat",
          "Indiana/Endangered/Northern riffleshell",
          "Indiana/Endangered/Pink mucket (pearlymussel)",
          "Indiana/Endangered/Piping Plover",
          "Indiana/Threatened/Pitcher's thistle",
          "Indiana/Threatened/Rabbitsfoot",
          "Indiana/Endangered/Rayed Bean",
          "Indiana/Endangered/Rough pigtoe",
          "Indiana/Threatened/Round hickorynut",
          "Indiana/Endangered/Rusty patched bumble bee",
          "Indiana/Endangered/Sheepnose Mussel",
          "Indiana/Endangered/Short's bladderpod",
          "Indiana/Endangered/Short's goldenrod",
          "Indiana/Endangered/Snuffbox mussel",
          "Indiana/Threatened/Virginia sneezeweed",
          "Indiana/Endangered/White catspaw (pearlymussel)",
          "Indiana/Experimental Population, Non-Essential/Whooping crane",
          "Indiana/Threatened/rufa red knot",
          "Indiana/Endangered",
          "Indiana/Experimental Population, Non-Essential",
          "Indiana/Threatened",
          "Indiana"
         ],
         "labels": [
          "Clubshell",
          "Copperbelly water snake",
          "Eastern Black rail",
          "Eastern Massasauga (=rattlesnake)",
          "Eastern prairie fringed orchid",
          "Fanshell",
          "Fat pocketbook",
          "Gray bat",
          "Indiana bat",
          "Karner blue butterfly",
          "Longsolid",
          "Mead's milkweed",
          "Mitchell's satyr Butterfly",
          "Northern Long-Eared Bat",
          "Northern riffleshell",
          "Pink mucket (pearlymussel)",
          "Piping Plover",
          "Pitcher's thistle",
          "Rabbitsfoot",
          "Rayed Bean",
          "Rough pigtoe",
          "Round hickorynut",
          "Rusty patched bumble bee",
          "Sheepnose Mussel",
          "Short's bladderpod",
          "Short's goldenrod",
          "Snuffbox mussel",
          "Virginia sneezeweed",
          "White catspaw (pearlymussel)",
          "Whooping crane",
          "rufa red knot",
          "Endangered",
          "Experimental Population, Non-Essential",
          "Threatened",
          "Indiana"
         ],
         "name": "",
         "parents": [
          "Indiana/Endangered",
          "Indiana/Threatened",
          "Indiana/Threatened",
          "Indiana/Threatened",
          "Indiana/Threatened",
          "Indiana/Endangered",
          "Indiana/Endangered",
          "Indiana/Endangered",
          "Indiana/Endangered",
          "Indiana/Endangered",
          "Indiana/Threatened",
          "Indiana/Threatened",
          "Indiana/Endangered",
          "Indiana/Endangered",
          "Indiana/Endangered",
          "Indiana/Endangered",
          "Indiana/Endangered",
          "Indiana/Threatened",
          "Indiana/Threatened",
          "Indiana/Endangered",
          "Indiana/Endangered",
          "Indiana/Threatened",
          "Indiana/Endangered",
          "Indiana/Endangered",
          "Indiana/Endangered",
          "Indiana/Endangered",
          "Indiana/Endangered",
          "Indiana/Threatened",
          "Indiana/Endangered",
          "Indiana/Experimental Population, Non-Essential",
          "Indiana/Threatened",
          "Indiana",
          "Indiana",
          "Indiana",
          ""
         ],
         "type": "sunburst",
         "values": [
          1,
          1,
          1,
          1,
          1,
          1,
          1,
          1,
          1,
          1,
          1,
          1,
          1,
          1,
          1,
          1,
          1,
          1,
          1,
          1,
          1,
          1,
          1,
          1,
          1,
          1,
          1,
          1,
          1,
          1,
          1,
          19,
          1,
          11,
          31
         ]
        }
       ],
       "layout": {
        "legend": {
         "tracegroupgap": 0
        },
        "margin": {
         "t": 60
        },
        "template": {
         "data": {
          "bar": [
           {
            "error_x": {
             "color": "#2a3f5f"
            },
            "error_y": {
             "color": "#2a3f5f"
            },
            "marker": {
             "line": {
              "color": "#E5ECF6",
              "width": 0.5
             },
             "pattern": {
              "fillmode": "overlay",
              "size": 10,
              "solidity": 0.2
             }
            },
            "type": "bar"
           }
          ],
          "barpolar": [
           {
            "marker": {
             "line": {
              "color": "#E5ECF6",
              "width": 0.5
             },
             "pattern": {
              "fillmode": "overlay",
              "size": 10,
              "solidity": 0.2
             }
            },
            "type": "barpolar"
           }
          ],
          "carpet": [
           {
            "aaxis": {
             "endlinecolor": "#2a3f5f",
             "gridcolor": "white",
             "linecolor": "white",
             "minorgridcolor": "white",
             "startlinecolor": "#2a3f5f"
            },
            "baxis": {
             "endlinecolor": "#2a3f5f",
             "gridcolor": "white",
             "linecolor": "white",
             "minorgridcolor": "white",
             "startlinecolor": "#2a3f5f"
            },
            "type": "carpet"
           }
          ],
          "choropleth": [
           {
            "colorbar": {
             "outlinewidth": 0,
             "ticks": ""
            },
            "type": "choropleth"
           }
          ],
          "contour": [
           {
            "colorbar": {
             "outlinewidth": 0,
             "ticks": ""
            },
            "colorscale": [
             [
              0,
              "#0d0887"
             ],
             [
              0.1111111111111111,
              "#46039f"
             ],
             [
              0.2222222222222222,
              "#7201a8"
             ],
             [
              0.3333333333333333,
              "#9c179e"
             ],
             [
              0.4444444444444444,
              "#bd3786"
             ],
             [
              0.5555555555555556,
              "#d8576b"
             ],
             [
              0.6666666666666666,
              "#ed7953"
             ],
             [
              0.7777777777777778,
              "#fb9f3a"
             ],
             [
              0.8888888888888888,
              "#fdca26"
             ],
             [
              1,
              "#f0f921"
             ]
            ],
            "type": "contour"
           }
          ],
          "contourcarpet": [
           {
            "colorbar": {
             "outlinewidth": 0,
             "ticks": ""
            },
            "type": "contourcarpet"
           }
          ],
          "heatmap": [
           {
            "colorbar": {
             "outlinewidth": 0,
             "ticks": ""
            },
            "colorscale": [
             [
              0,
              "#0d0887"
             ],
             [
              0.1111111111111111,
              "#46039f"
             ],
             [
              0.2222222222222222,
              "#7201a8"
             ],
             [
              0.3333333333333333,
              "#9c179e"
             ],
             [
              0.4444444444444444,
              "#bd3786"
             ],
             [
              0.5555555555555556,
              "#d8576b"
             ],
             [
              0.6666666666666666,
              "#ed7953"
             ],
             [
              0.7777777777777778,
              "#fb9f3a"
             ],
             [
              0.8888888888888888,
              "#fdca26"
             ],
             [
              1,
              "#f0f921"
             ]
            ],
            "type": "heatmap"
           }
          ],
          "heatmapgl": [
           {
            "colorbar": {
             "outlinewidth": 0,
             "ticks": ""
            },
            "colorscale": [
             [
              0,
              "#0d0887"
             ],
             [
              0.1111111111111111,
              "#46039f"
             ],
             [
              0.2222222222222222,
              "#7201a8"
             ],
             [
              0.3333333333333333,
              "#9c179e"
             ],
             [
              0.4444444444444444,
              "#bd3786"
             ],
             [
              0.5555555555555556,
              "#d8576b"
             ],
             [
              0.6666666666666666,
              "#ed7953"
             ],
             [
              0.7777777777777778,
              "#fb9f3a"
             ],
             [
              0.8888888888888888,
              "#fdca26"
             ],
             [
              1,
              "#f0f921"
             ]
            ],
            "type": "heatmapgl"
           }
          ],
          "histogram": [
           {
            "marker": {
             "pattern": {
              "fillmode": "overlay",
              "size": 10,
              "solidity": 0.2
             }
            },
            "type": "histogram"
           }
          ],
          "histogram2d": [
           {
            "colorbar": {
             "outlinewidth": 0,
             "ticks": ""
            },
            "colorscale": [
             [
              0,
              "#0d0887"
             ],
             [
              0.1111111111111111,
              "#46039f"
             ],
             [
              0.2222222222222222,
              "#7201a8"
             ],
             [
              0.3333333333333333,
              "#9c179e"
             ],
             [
              0.4444444444444444,
              "#bd3786"
             ],
             [
              0.5555555555555556,
              "#d8576b"
             ],
             [
              0.6666666666666666,
              "#ed7953"
             ],
             [
              0.7777777777777778,
              "#fb9f3a"
             ],
             [
              0.8888888888888888,
              "#fdca26"
             ],
             [
              1,
              "#f0f921"
             ]
            ],
            "type": "histogram2d"
           }
          ],
          "histogram2dcontour": [
           {
            "colorbar": {
             "outlinewidth": 0,
             "ticks": ""
            },
            "colorscale": [
             [
              0,
              "#0d0887"
             ],
             [
              0.1111111111111111,
              "#46039f"
             ],
             [
              0.2222222222222222,
              "#7201a8"
             ],
             [
              0.3333333333333333,
              "#9c179e"
             ],
             [
              0.4444444444444444,
              "#bd3786"
             ],
             [
              0.5555555555555556,
              "#d8576b"
             ],
             [
              0.6666666666666666,
              "#ed7953"
             ],
             [
              0.7777777777777778,
              "#fb9f3a"
             ],
             [
              0.8888888888888888,
              "#fdca26"
             ],
             [
              1,
              "#f0f921"
             ]
            ],
            "type": "histogram2dcontour"
           }
          ],
          "mesh3d": [
           {
            "colorbar": {
             "outlinewidth": 0,
             "ticks": ""
            },
            "type": "mesh3d"
           }
          ],
          "parcoords": [
           {
            "line": {
             "colorbar": {
              "outlinewidth": 0,
              "ticks": ""
             }
            },
            "type": "parcoords"
           }
          ],
          "pie": [
           {
            "automargin": true,
            "type": "pie"
           }
          ],
          "scatter": [
           {
            "fillpattern": {
             "fillmode": "overlay",
             "size": 10,
             "solidity": 0.2
            },
            "type": "scatter"
           }
          ],
          "scatter3d": [
           {
            "line": {
             "colorbar": {
              "outlinewidth": 0,
              "ticks": ""
             }
            },
            "marker": {
             "colorbar": {
              "outlinewidth": 0,
              "ticks": ""
             }
            },
            "type": "scatter3d"
           }
          ],
          "scattercarpet": [
           {
            "marker": {
             "colorbar": {
              "outlinewidth": 0,
              "ticks": ""
             }
            },
            "type": "scattercarpet"
           }
          ],
          "scattergeo": [
           {
            "marker": {
             "colorbar": {
              "outlinewidth": 0,
              "ticks": ""
             }
            },
            "type": "scattergeo"
           }
          ],
          "scattergl": [
           {
            "marker": {
             "colorbar": {
              "outlinewidth": 0,
              "ticks": ""
             }
            },
            "type": "scattergl"
           }
          ],
          "scattermapbox": [
           {
            "marker": {
             "colorbar": {
              "outlinewidth": 0,
              "ticks": ""
             }
            },
            "type": "scattermapbox"
           }
          ],
          "scatterpolar": [
           {
            "marker": {
             "colorbar": {
              "outlinewidth": 0,
              "ticks": ""
             }
            },
            "type": "scatterpolar"
           }
          ],
          "scatterpolargl": [
           {
            "marker": {
             "colorbar": {
              "outlinewidth": 0,
              "ticks": ""
             }
            },
            "type": "scatterpolargl"
           }
          ],
          "scatterternary": [
           {
            "marker": {
             "colorbar": {
              "outlinewidth": 0,
              "ticks": ""
             }
            },
            "type": "scatterternary"
           }
          ],
          "surface": [
           {
            "colorbar": {
             "outlinewidth": 0,
             "ticks": ""
            },
            "colorscale": [
             [
              0,
              "#0d0887"
             ],
             [
              0.1111111111111111,
              "#46039f"
             ],
             [
              0.2222222222222222,
              "#7201a8"
             ],
             [
              0.3333333333333333,
              "#9c179e"
             ],
             [
              0.4444444444444444,
              "#bd3786"
             ],
             [
              0.5555555555555556,
              "#d8576b"
             ],
             [
              0.6666666666666666,
              "#ed7953"
             ],
             [
              0.7777777777777778,
              "#fb9f3a"
             ],
             [
              0.8888888888888888,
              "#fdca26"
             ],
             [
              1,
              "#f0f921"
             ]
            ],
            "type": "surface"
           }
          ],
          "table": [
           {
            "cells": {
             "fill": {
              "color": "#EBF0F8"
             },
             "line": {
              "color": "white"
             }
            },
            "header": {
             "fill": {
              "color": "#C8D4E3"
             },
             "line": {
              "color": "white"
             }
            },
            "type": "table"
           }
          ]
         },
         "layout": {
          "annotationdefaults": {
           "arrowcolor": "#2a3f5f",
           "arrowhead": 0,
           "arrowwidth": 1
          },
          "autotypenumbers": "strict",
          "coloraxis": {
           "colorbar": {
            "outlinewidth": 0,
            "ticks": ""
           }
          },
          "colorscale": {
           "diverging": [
            [
             0,
             "#8e0152"
            ],
            [
             0.1,
             "#c51b7d"
            ],
            [
             0.2,
             "#de77ae"
            ],
            [
             0.3,
             "#f1b6da"
            ],
            [
             0.4,
             "#fde0ef"
            ],
            [
             0.5,
             "#f7f7f7"
            ],
            [
             0.6,
             "#e6f5d0"
            ],
            [
             0.7,
             "#b8e186"
            ],
            [
             0.8,
             "#7fbc41"
            ],
            [
             0.9,
             "#4d9221"
            ],
            [
             1,
             "#276419"
            ]
           ],
           "sequential": [
            [
             0,
             "#0d0887"
            ],
            [
             0.1111111111111111,
             "#46039f"
            ],
            [
             0.2222222222222222,
             "#7201a8"
            ],
            [
             0.3333333333333333,
             "#9c179e"
            ],
            [
             0.4444444444444444,
             "#bd3786"
            ],
            [
             0.5555555555555556,
             "#d8576b"
            ],
            [
             0.6666666666666666,
             "#ed7953"
            ],
            [
             0.7777777777777778,
             "#fb9f3a"
            ],
            [
             0.8888888888888888,
             "#fdca26"
            ],
            [
             1,
             "#f0f921"
            ]
           ],
           "sequentialminus": [
            [
             0,
             "#0d0887"
            ],
            [
             0.1111111111111111,
             "#46039f"
            ],
            [
             0.2222222222222222,
             "#7201a8"
            ],
            [
             0.3333333333333333,
             "#9c179e"
            ],
            [
             0.4444444444444444,
             "#bd3786"
            ],
            [
             0.5555555555555556,
             "#d8576b"
            ],
            [
             0.6666666666666666,
             "#ed7953"
            ],
            [
             0.7777777777777778,
             "#fb9f3a"
            ],
            [
             0.8888888888888888,
             "#fdca26"
            ],
            [
             1,
             "#f0f921"
            ]
           ]
          },
          "colorway": [
           "#636efa",
           "#EF553B",
           "#00cc96",
           "#ab63fa",
           "#FFA15A",
           "#19d3f3",
           "#FF6692",
           "#B6E880",
           "#FF97FF",
           "#FECB52"
          ],
          "font": {
           "color": "#2a3f5f"
          },
          "geo": {
           "bgcolor": "white",
           "lakecolor": "white",
           "landcolor": "#E5ECF6",
           "showlakes": true,
           "showland": true,
           "subunitcolor": "white"
          },
          "hoverlabel": {
           "align": "left"
          },
          "hovermode": "closest",
          "mapbox": {
           "style": "light"
          },
          "paper_bgcolor": "white",
          "plot_bgcolor": "#E5ECF6",
          "polar": {
           "angularaxis": {
            "gridcolor": "white",
            "linecolor": "white",
            "ticks": ""
           },
           "bgcolor": "#E5ECF6",
           "radialaxis": {
            "gridcolor": "white",
            "linecolor": "white",
            "ticks": ""
           }
          },
          "scene": {
           "xaxis": {
            "backgroundcolor": "#E5ECF6",
            "gridcolor": "white",
            "gridwidth": 2,
            "linecolor": "white",
            "showbackground": true,
            "ticks": "",
            "zerolinecolor": "white"
           },
           "yaxis": {
            "backgroundcolor": "#E5ECF6",
            "gridcolor": "white",
            "gridwidth": 2,
            "linecolor": "white",
            "showbackground": true,
            "ticks": "",
            "zerolinecolor": "white"
           },
           "zaxis": {
            "backgroundcolor": "#E5ECF6",
            "gridcolor": "white",
            "gridwidth": 2,
            "linecolor": "white",
            "showbackground": true,
            "ticks": "",
            "zerolinecolor": "white"
           }
          },
          "shapedefaults": {
           "line": {
            "color": "#2a3f5f"
           }
          },
          "ternary": {
           "aaxis": {
            "gridcolor": "white",
            "linecolor": "white",
            "ticks": ""
           },
           "baxis": {
            "gridcolor": "white",
            "linecolor": "white",
            "ticks": ""
           },
           "bgcolor": "#E5ECF6",
           "caxis": {
            "gridcolor": "white",
            "linecolor": "white",
            "ticks": ""
           }
          },
          "title": {
           "x": 0.05
          },
          "xaxis": {
           "automargin": true,
           "gridcolor": "white",
           "linecolor": "white",
           "ticks": "",
           "title": {
            "standoff": 15
           },
           "zerolinecolor": "white",
           "zerolinewidth": 2
          },
          "yaxis": {
           "automargin": true,
           "gridcolor": "white",
           "linecolor": "white",
           "ticks": "",
           "title": {
            "standoff": 15
           },
           "zerolinecolor": "white",
           "zerolinewidth": 2
          }
         }
        }
       }
      }
     },
     "metadata": {},
     "output_type": "display_data"
    }
   ],
   "source": [
    "import plotly.express as px\n",
    "df[\"root\"] = \"Indiana\"\n",
    "fig = px.sunburst(df, path=['root', 'ESA_listing_status', 'common_name'])\n",
    "fig.show()"
   ]
  },
  {
   "cell_type": "code",
   "execution_count": 8,
   "metadata": {},
   "outputs": [
    {
     "data": {
      "text/html": [
       "<div>\n",
       "<style scoped>\n",
       "    .dataframe tbody tr th:only-of-type {\n",
       "        vertical-align: middle;\n",
       "    }\n",
       "\n",
       "    .dataframe tbody tr th {\n",
       "        vertical-align: top;\n",
       "    }\n",
       "\n",
       "    .dataframe thead th {\n",
       "        text-align: right;\n",
       "    }\n",
       "</style>\n",
       "<table border=\"1\" class=\"dataframe\">\n",
       "  <thead>\n",
       "    <tr style=\"text-align: right;\">\n",
       "      <th></th>\n",
       "      <th>scientific_name</th>\n",
       "      <th>common_name</th>\n",
       "      <th>where_listed</th>\n",
       "      <th>region</th>\n",
       "      <th>ESA_listing_status</th>\n",
       "      <th>group_name</th>\n",
       "    </tr>\n",
       "  </thead>\n",
       "  <tbody>\n",
       "    <tr>\n",
       "      <th>0</th>\n",
       "      <td>Myotis sodalis</td>\n",
       "      <td>Indiana bat</td>\n",
       "      <td>Wherever found</td>\n",
       "      <td>3</td>\n",
       "      <td>Endangered</td>\n",
       "      <td>Mammals</td>\n",
       "    </tr>\n",
       "    <tr>\n",
       "      <th>1</th>\n",
       "      <td>Canis lupus</td>\n",
       "      <td>Gray wolf</td>\n",
       "      <td>U.S.A.: All of AL, AR, CA, CO, CT, DE, FL, GA,...</td>\n",
       "      <td>6</td>\n",
       "      <td>Endangered</td>\n",
       "      <td>Mammals</td>\n",
       "    </tr>\n",
       "    <tr>\n",
       "      <th>2</th>\n",
       "      <td>Lynx canadensis</td>\n",
       "      <td>Canada Lynx</td>\n",
       "      <td>Wherever Found in Contiguous U.S.</td>\n",
       "      <td>6</td>\n",
       "      <td>Threatened</td>\n",
       "      <td>Mammals</td>\n",
       "    </tr>\n",
       "    <tr>\n",
       "      <th>3</th>\n",
       "      <td>Charadrius melodus</td>\n",
       "      <td>Piping Plover</td>\n",
       "      <td>[Great Lakes watershed DPS] - Great Lakes, wat...</td>\n",
       "      <td>3</td>\n",
       "      <td>Endangered</td>\n",
       "      <td>Birds</td>\n",
       "    </tr>\n",
       "    <tr>\n",
       "      <th>4</th>\n",
       "      <td>Nerodia erythrogaster neglecta</td>\n",
       "      <td>Copperbelly water snake</td>\n",
       "      <td>Indiana north of 40 degrees north latitude, Mi...</td>\n",
       "      <td>3</td>\n",
       "      <td>Threatened</td>\n",
       "      <td>Reptiles</td>\n",
       "    </tr>\n",
       "    <tr>\n",
       "      <th>5</th>\n",
       "      <td>Pleurobema clava</td>\n",
       "      <td>Clubshell</td>\n",
       "      <td>Wherever found; Except where listed as Experim...</td>\n",
       "      <td>5</td>\n",
       "      <td>Endangered</td>\n",
       "      <td>Clams</td>\n",
       "    </tr>\n",
       "    <tr>\n",
       "      <th>6</th>\n",
       "      <td>Epioblasma rangiana</td>\n",
       "      <td>Northern riffleshell</td>\n",
       "      <td>Wherever found</td>\n",
       "      <td>5</td>\n",
       "      <td>Endangered</td>\n",
       "      <td>Clams</td>\n",
       "    </tr>\n",
       "    <tr>\n",
       "      <th>7</th>\n",
       "      <td>Lycaeides melissa samuelis</td>\n",
       "      <td>Karner blue butterfly</td>\n",
       "      <td>Wherever found</td>\n",
       "      <td>3</td>\n",
       "      <td>Endangered</td>\n",
       "      <td>Insects</td>\n",
       "    </tr>\n",
       "    <tr>\n",
       "      <th>8</th>\n",
       "      <td>Neonympha mitchellii mitchellii</td>\n",
       "      <td>Mitchell's satyr Butterfly</td>\n",
       "      <td>Wherever found</td>\n",
       "      <td>3</td>\n",
       "      <td>Endangered</td>\n",
       "      <td>Insects</td>\n",
       "    </tr>\n",
       "    <tr>\n",
       "      <th>9</th>\n",
       "      <td>Brychius hungerfordi</td>\n",
       "      <td>Hungerford's crawling water Beetle</td>\n",
       "      <td>Wherever found</td>\n",
       "      <td>3</td>\n",
       "      <td>Endangered</td>\n",
       "      <td>Insects</td>\n",
       "    </tr>\n",
       "    <tr>\n",
       "      <th>10</th>\n",
       "      <td>Somatochlora hineana</td>\n",
       "      <td>Hine's emerald dragonfly</td>\n",
       "      <td>Wherever found</td>\n",
       "      <td>3</td>\n",
       "      <td>Endangered</td>\n",
       "      <td>Insects</td>\n",
       "    </tr>\n",
       "    <tr>\n",
       "      <th>11</th>\n",
       "      <td>Cirsium pitcheri</td>\n",
       "      <td>Pitcher's thistle</td>\n",
       "      <td>Wherever found</td>\n",
       "      <td>3</td>\n",
       "      <td>Threatened</td>\n",
       "      <td>Flowering Plants</td>\n",
       "    </tr>\n",
       "    <tr>\n",
       "      <th>12</th>\n",
       "      <td>Iris lacustris</td>\n",
       "      <td>Dwarf lake iris</td>\n",
       "      <td>Wherever found</td>\n",
       "      <td>3</td>\n",
       "      <td>Threatened</td>\n",
       "      <td>Flowering Plants</td>\n",
       "    </tr>\n",
       "    <tr>\n",
       "      <th>13</th>\n",
       "      <td>Mimulus michiganensis</td>\n",
       "      <td>Michigan monkey-flower</td>\n",
       "      <td>Wherever found</td>\n",
       "      <td>3</td>\n",
       "      <td>Endangered</td>\n",
       "      <td>Flowering Plants</td>\n",
       "    </tr>\n",
       "    <tr>\n",
       "      <th>14</th>\n",
       "      <td>Platanthera leucophaea</td>\n",
       "      <td>Eastern prairie fringed orchid</td>\n",
       "      <td>Wherever found</td>\n",
       "      <td>3</td>\n",
       "      <td>Threatened</td>\n",
       "      <td>Flowering Plants</td>\n",
       "    </tr>\n",
       "    <tr>\n",
       "      <th>15</th>\n",
       "      <td>Solidago houghtonii</td>\n",
       "      <td>Houghton's goldenrod</td>\n",
       "      <td>Wherever found</td>\n",
       "      <td>3</td>\n",
       "      <td>Threatened</td>\n",
       "      <td>Flowering Plants</td>\n",
       "    </tr>\n",
       "    <tr>\n",
       "      <th>16</th>\n",
       "      <td>Hymenoxys herbacea</td>\n",
       "      <td>Lakeside daisy</td>\n",
       "      <td>Wherever found</td>\n",
       "      <td>3</td>\n",
       "      <td>Threatened</td>\n",
       "      <td>Flowering Plants</td>\n",
       "    </tr>\n",
       "    <tr>\n",
       "      <th>17</th>\n",
       "      <td>Asplenium scolopendrium var. americanum</td>\n",
       "      <td>American hart's-tongue fern</td>\n",
       "      <td>Wherever found</td>\n",
       "      <td>5</td>\n",
       "      <td>Threatened</td>\n",
       "      <td>Ferns and Allies</td>\n",
       "    </tr>\n",
       "    <tr>\n",
       "      <th>18</th>\n",
       "      <td>Epioblasma triquetra</td>\n",
       "      <td>Snuffbox mussel</td>\n",
       "      <td>Wherever found</td>\n",
       "      <td>3</td>\n",
       "      <td>Endangered</td>\n",
       "      <td>Clams</td>\n",
       "    </tr>\n",
       "    <tr>\n",
       "      <th>19</th>\n",
       "      <td>Villosa fabalis</td>\n",
       "      <td>Rayed Bean</td>\n",
       "      <td>Wherever found</td>\n",
       "      <td>3</td>\n",
       "      <td>Endangered</td>\n",
       "      <td>Clams</td>\n",
       "    </tr>\n",
       "    <tr>\n",
       "      <th>20</th>\n",
       "      <td>Grus americana</td>\n",
       "      <td>Whooping crane</td>\n",
       "      <td>U.S.A. (AL, AR, CO, FL, GA, ID, IL, IN, IA, KY...</td>\n",
       "      <td>2</td>\n",
       "      <td>Experimental Population, Non-Essential</td>\n",
       "      <td>Birds</td>\n",
       "    </tr>\n",
       "    <tr>\n",
       "      <th>21</th>\n",
       "      <td>Sistrurus catenatus</td>\n",
       "      <td>Eastern Massasauga (=rattlesnake)</td>\n",
       "      <td>Wherever found</td>\n",
       "      <td>3</td>\n",
       "      <td>Threatened</td>\n",
       "      <td>Reptiles</td>\n",
       "    </tr>\n",
       "    <tr>\n",
       "      <th>22</th>\n",
       "      <td>Calidris canutus rufa</td>\n",
       "      <td>rufa red knot</td>\n",
       "      <td>Wherever found</td>\n",
       "      <td>5</td>\n",
       "      <td>Threatened</td>\n",
       "      <td>Birds</td>\n",
       "    </tr>\n",
       "    <tr>\n",
       "      <th>23</th>\n",
       "      <td>Myotis septentrionalis</td>\n",
       "      <td>Northern Long-Eared Bat</td>\n",
       "      <td>Wherever found</td>\n",
       "      <td>3</td>\n",
       "      <td>Endangered</td>\n",
       "      <td>Mammals</td>\n",
       "    </tr>\n",
       "    <tr>\n",
       "      <th>24</th>\n",
       "      <td>Oarisma poweshiek</td>\n",
       "      <td>Poweshiek skipperling</td>\n",
       "      <td>Wherever found</td>\n",
       "      <td>3</td>\n",
       "      <td>Endangered</td>\n",
       "      <td>Insects</td>\n",
       "    </tr>\n",
       "    <tr>\n",
       "      <th>25</th>\n",
       "      <td>Obovaria subrotunda</td>\n",
       "      <td>Round hickorynut</td>\n",
       "      <td>Wherever found</td>\n",
       "      <td>3</td>\n",
       "      <td>Threatened</td>\n",
       "      <td>Clams</td>\n",
       "    </tr>\n",
       "  </tbody>\n",
       "</table>\n",
       "</div>"
      ],
      "text/plain": [
       "                            scientific_name  \\\n",
       "0                            Myotis sodalis   \n",
       "1                               Canis lupus   \n",
       "2                           Lynx canadensis   \n",
       "3                        Charadrius melodus   \n",
       "4            Nerodia erythrogaster neglecta   \n",
       "5                          Pleurobema clava   \n",
       "6                       Epioblasma rangiana   \n",
       "7                Lycaeides melissa samuelis   \n",
       "8           Neonympha mitchellii mitchellii   \n",
       "9                      Brychius hungerfordi   \n",
       "10                     Somatochlora hineana   \n",
       "11                         Cirsium pitcheri   \n",
       "12                           Iris lacustris   \n",
       "13                    Mimulus michiganensis   \n",
       "14                   Platanthera leucophaea   \n",
       "15                      Solidago houghtonii   \n",
       "16                       Hymenoxys herbacea   \n",
       "17  Asplenium scolopendrium var. americanum   \n",
       "18                     Epioblasma triquetra   \n",
       "19                          Villosa fabalis   \n",
       "20                           Grus americana   \n",
       "21                      Sistrurus catenatus   \n",
       "22                    Calidris canutus rufa   \n",
       "23                   Myotis septentrionalis   \n",
       "24                        Oarisma poweshiek   \n",
       "25                      Obovaria subrotunda   \n",
       "\n",
       "                           common_name  \\\n",
       "0                          Indiana bat   \n",
       "1                            Gray wolf   \n",
       "2                          Canada Lynx   \n",
       "3                        Piping Plover   \n",
       "4              Copperbelly water snake   \n",
       "5                            Clubshell   \n",
       "6                 Northern riffleshell   \n",
       "7                Karner blue butterfly   \n",
       "8           Mitchell's satyr Butterfly   \n",
       "9   Hungerford's crawling water Beetle   \n",
       "10            Hine's emerald dragonfly   \n",
       "11                   Pitcher's thistle   \n",
       "12                     Dwarf lake iris   \n",
       "13              Michigan monkey-flower   \n",
       "14      Eastern prairie fringed orchid   \n",
       "15                Houghton's goldenrod   \n",
       "16                      Lakeside daisy   \n",
       "17         American hart's-tongue fern   \n",
       "18                     Snuffbox mussel   \n",
       "19                          Rayed Bean   \n",
       "20                      Whooping crane   \n",
       "21   Eastern Massasauga (=rattlesnake)   \n",
       "22                       rufa red knot   \n",
       "23             Northern Long-Eared Bat   \n",
       "24               Poweshiek skipperling   \n",
       "25                    Round hickorynut   \n",
       "\n",
       "                                         where_listed  region  \\\n",
       "0                                      Wherever found       3   \n",
       "1   U.S.A.: All of AL, AR, CA, CO, CT, DE, FL, GA,...       6   \n",
       "2                   Wherever Found in Contiguous U.S.       6   \n",
       "3   [Great Lakes watershed DPS] - Great Lakes, wat...       3   \n",
       "4   Indiana north of 40 degrees north latitude, Mi...       3   \n",
       "5   Wherever found; Except where listed as Experim...       5   \n",
       "6                                      Wherever found       5   \n",
       "7                                      Wherever found       3   \n",
       "8                                      Wherever found       3   \n",
       "9                                      Wherever found       3   \n",
       "10                                     Wherever found       3   \n",
       "11                                     Wherever found       3   \n",
       "12                                     Wherever found       3   \n",
       "13                                     Wherever found       3   \n",
       "14                                     Wherever found       3   \n",
       "15                                     Wherever found       3   \n",
       "16                                     Wherever found       3   \n",
       "17                                     Wherever found       5   \n",
       "18                                     Wherever found       3   \n",
       "19                                     Wherever found       3   \n",
       "20  U.S.A. (AL, AR, CO, FL, GA, ID, IL, IN, IA, KY...       2   \n",
       "21                                     Wherever found       3   \n",
       "22                                     Wherever found       5   \n",
       "23                                     Wherever found       3   \n",
       "24                                     Wherever found       3   \n",
       "25                                     Wherever found       3   \n",
       "\n",
       "                        ESA_listing_status        group_name  \n",
       "0                               Endangered           Mammals  \n",
       "1                               Endangered           Mammals  \n",
       "2                               Threatened           Mammals  \n",
       "3                               Endangered             Birds  \n",
       "4                               Threatened          Reptiles  \n",
       "5                               Endangered             Clams  \n",
       "6                               Endangered             Clams  \n",
       "7                               Endangered           Insects  \n",
       "8                               Endangered           Insects  \n",
       "9                               Endangered           Insects  \n",
       "10                              Endangered           Insects  \n",
       "11                              Threatened  Flowering Plants  \n",
       "12                              Threatened  Flowering Plants  \n",
       "13                              Endangered  Flowering Plants  \n",
       "14                              Threatened  Flowering Plants  \n",
       "15                              Threatened  Flowering Plants  \n",
       "16                              Threatened  Flowering Plants  \n",
       "17                              Threatened  Ferns and Allies  \n",
       "18                              Endangered             Clams  \n",
       "19                              Endangered             Clams  \n",
       "20  Experimental Population, Non-Essential             Birds  \n",
       "21                              Threatened          Reptiles  \n",
       "22                              Threatened             Birds  \n",
       "23                              Endangered           Mammals  \n",
       "24                              Endangered           Insects  \n",
       "25                              Threatened             Clams  "
      ]
     },
     "execution_count": 8,
     "metadata": {},
     "output_type": "execute_result"
    }
   ],
   "source": [
    "import pandas as pd\n",
    "df = pd.read_csv(\"speciesMI.csv\")\n",
    "df"
   ]
  },
  {
   "cell_type": "code",
   "execution_count": 9,
   "metadata": {},
   "outputs": [
    {
     "data": {
      "application/vnd.plotly.v1+json": {
       "config": {
        "plotlyServerURL": "https://plot.ly"
       },
       "data": [
        {
         "branchvalues": "total",
         "domain": {
          "x": [
           0,
           1
          ],
          "y": [
           0,
           1
          ]
         },
         "hovertemplate": "labels=%{label}<br>count=%{value}<br>parent=%{parent}<br>id=%{id}<extra></extra>",
         "ids": [
          "Michigan/Threatened/American hart's-tongue fern",
          "Michigan/Threatened/Canada Lynx",
          "Michigan/Endangered/Clubshell",
          "Michigan/Threatened/Copperbelly water snake",
          "Michigan/Threatened/Dwarf lake iris",
          "Michigan/Threatened/Eastern Massasauga (=rattlesnake)",
          "Michigan/Threatened/Eastern prairie fringed orchid",
          "Michigan/Endangered/Gray wolf",
          "Michigan/Endangered/Hine's emerald dragonfly",
          "Michigan/Threatened/Houghton's goldenrod",
          "Michigan/Endangered/Hungerford's crawling water Beetle",
          "Michigan/Endangered/Indiana bat",
          "Michigan/Endangered/Karner blue butterfly",
          "Michigan/Threatened/Lakeside daisy",
          "Michigan/Endangered/Michigan monkey-flower",
          "Michigan/Endangered/Mitchell's satyr Butterfly",
          "Michigan/Endangered/Northern Long-Eared Bat",
          "Michigan/Endangered/Northern riffleshell",
          "Michigan/Endangered/Piping Plover",
          "Michigan/Threatened/Pitcher's thistle",
          "Michigan/Endangered/Poweshiek skipperling",
          "Michigan/Endangered/Rayed Bean",
          "Michigan/Threatened/Round hickorynut",
          "Michigan/Endangered/Snuffbox mussel",
          "Michigan/Experimental Population, Non-Essential/Whooping crane",
          "Michigan/Threatened/rufa red knot",
          "Michigan/Endangered",
          "Michigan/Experimental Population, Non-Essential",
          "Michigan/Threatened",
          "Michigan"
         ],
         "labels": [
          "American hart's-tongue fern",
          "Canada Lynx",
          "Clubshell",
          "Copperbelly water snake",
          "Dwarf lake iris",
          "Eastern Massasauga (=rattlesnake)",
          "Eastern prairie fringed orchid",
          "Gray wolf",
          "Hine's emerald dragonfly",
          "Houghton's goldenrod",
          "Hungerford's crawling water Beetle",
          "Indiana bat",
          "Karner blue butterfly",
          "Lakeside daisy",
          "Michigan monkey-flower",
          "Mitchell's satyr Butterfly",
          "Northern Long-Eared Bat",
          "Northern riffleshell",
          "Piping Plover",
          "Pitcher's thistle",
          "Poweshiek skipperling",
          "Rayed Bean",
          "Round hickorynut",
          "Snuffbox mussel",
          "Whooping crane",
          "rufa red knot",
          "Endangered",
          "Experimental Population, Non-Essential",
          "Threatened",
          "Michigan"
         ],
         "name": "",
         "parents": [
          "Michigan/Threatened",
          "Michigan/Threatened",
          "Michigan/Endangered",
          "Michigan/Threatened",
          "Michigan/Threatened",
          "Michigan/Threatened",
          "Michigan/Threatened",
          "Michigan/Endangered",
          "Michigan/Endangered",
          "Michigan/Threatened",
          "Michigan/Endangered",
          "Michigan/Endangered",
          "Michigan/Endangered",
          "Michigan/Threatened",
          "Michigan/Endangered",
          "Michigan/Endangered",
          "Michigan/Endangered",
          "Michigan/Endangered",
          "Michigan/Endangered",
          "Michigan/Threatened",
          "Michigan/Endangered",
          "Michigan/Endangered",
          "Michigan/Threatened",
          "Michigan/Endangered",
          "Michigan/Experimental Population, Non-Essential",
          "Michigan/Threatened",
          "Michigan",
          "Michigan",
          "Michigan",
          ""
         ],
         "type": "sunburst",
         "values": [
          1,
          1,
          1,
          1,
          1,
          1,
          1,
          1,
          1,
          1,
          1,
          1,
          1,
          1,
          1,
          1,
          1,
          1,
          1,
          1,
          1,
          1,
          1,
          1,
          1,
          1,
          14,
          1,
          11,
          26
         ]
        }
       ],
       "layout": {
        "legend": {
         "tracegroupgap": 0
        },
        "margin": {
         "t": 60
        },
        "template": {
         "data": {
          "bar": [
           {
            "error_x": {
             "color": "#2a3f5f"
            },
            "error_y": {
             "color": "#2a3f5f"
            },
            "marker": {
             "line": {
              "color": "#E5ECF6",
              "width": 0.5
             },
             "pattern": {
              "fillmode": "overlay",
              "size": 10,
              "solidity": 0.2
             }
            },
            "type": "bar"
           }
          ],
          "barpolar": [
           {
            "marker": {
             "line": {
              "color": "#E5ECF6",
              "width": 0.5
             },
             "pattern": {
              "fillmode": "overlay",
              "size": 10,
              "solidity": 0.2
             }
            },
            "type": "barpolar"
           }
          ],
          "carpet": [
           {
            "aaxis": {
             "endlinecolor": "#2a3f5f",
             "gridcolor": "white",
             "linecolor": "white",
             "minorgridcolor": "white",
             "startlinecolor": "#2a3f5f"
            },
            "baxis": {
             "endlinecolor": "#2a3f5f",
             "gridcolor": "white",
             "linecolor": "white",
             "minorgridcolor": "white",
             "startlinecolor": "#2a3f5f"
            },
            "type": "carpet"
           }
          ],
          "choropleth": [
           {
            "colorbar": {
             "outlinewidth": 0,
             "ticks": ""
            },
            "type": "choropleth"
           }
          ],
          "contour": [
           {
            "colorbar": {
             "outlinewidth": 0,
             "ticks": ""
            },
            "colorscale": [
             [
              0,
              "#0d0887"
             ],
             [
              0.1111111111111111,
              "#46039f"
             ],
             [
              0.2222222222222222,
              "#7201a8"
             ],
             [
              0.3333333333333333,
              "#9c179e"
             ],
             [
              0.4444444444444444,
              "#bd3786"
             ],
             [
              0.5555555555555556,
              "#d8576b"
             ],
             [
              0.6666666666666666,
              "#ed7953"
             ],
             [
              0.7777777777777778,
              "#fb9f3a"
             ],
             [
              0.8888888888888888,
              "#fdca26"
             ],
             [
              1,
              "#f0f921"
             ]
            ],
            "type": "contour"
           }
          ],
          "contourcarpet": [
           {
            "colorbar": {
             "outlinewidth": 0,
             "ticks": ""
            },
            "type": "contourcarpet"
           }
          ],
          "heatmap": [
           {
            "colorbar": {
             "outlinewidth": 0,
             "ticks": ""
            },
            "colorscale": [
             [
              0,
              "#0d0887"
             ],
             [
              0.1111111111111111,
              "#46039f"
             ],
             [
              0.2222222222222222,
              "#7201a8"
             ],
             [
              0.3333333333333333,
              "#9c179e"
             ],
             [
              0.4444444444444444,
              "#bd3786"
             ],
             [
              0.5555555555555556,
              "#d8576b"
             ],
             [
              0.6666666666666666,
              "#ed7953"
             ],
             [
              0.7777777777777778,
              "#fb9f3a"
             ],
             [
              0.8888888888888888,
              "#fdca26"
             ],
             [
              1,
              "#f0f921"
             ]
            ],
            "type": "heatmap"
           }
          ],
          "heatmapgl": [
           {
            "colorbar": {
             "outlinewidth": 0,
             "ticks": ""
            },
            "colorscale": [
             [
              0,
              "#0d0887"
             ],
             [
              0.1111111111111111,
              "#46039f"
             ],
             [
              0.2222222222222222,
              "#7201a8"
             ],
             [
              0.3333333333333333,
              "#9c179e"
             ],
             [
              0.4444444444444444,
              "#bd3786"
             ],
             [
              0.5555555555555556,
              "#d8576b"
             ],
             [
              0.6666666666666666,
              "#ed7953"
             ],
             [
              0.7777777777777778,
              "#fb9f3a"
             ],
             [
              0.8888888888888888,
              "#fdca26"
             ],
             [
              1,
              "#f0f921"
             ]
            ],
            "type": "heatmapgl"
           }
          ],
          "histogram": [
           {
            "marker": {
             "pattern": {
              "fillmode": "overlay",
              "size": 10,
              "solidity": 0.2
             }
            },
            "type": "histogram"
           }
          ],
          "histogram2d": [
           {
            "colorbar": {
             "outlinewidth": 0,
             "ticks": ""
            },
            "colorscale": [
             [
              0,
              "#0d0887"
             ],
             [
              0.1111111111111111,
              "#46039f"
             ],
             [
              0.2222222222222222,
              "#7201a8"
             ],
             [
              0.3333333333333333,
              "#9c179e"
             ],
             [
              0.4444444444444444,
              "#bd3786"
             ],
             [
              0.5555555555555556,
              "#d8576b"
             ],
             [
              0.6666666666666666,
              "#ed7953"
             ],
             [
              0.7777777777777778,
              "#fb9f3a"
             ],
             [
              0.8888888888888888,
              "#fdca26"
             ],
             [
              1,
              "#f0f921"
             ]
            ],
            "type": "histogram2d"
           }
          ],
          "histogram2dcontour": [
           {
            "colorbar": {
             "outlinewidth": 0,
             "ticks": ""
            },
            "colorscale": [
             [
              0,
              "#0d0887"
             ],
             [
              0.1111111111111111,
              "#46039f"
             ],
             [
              0.2222222222222222,
              "#7201a8"
             ],
             [
              0.3333333333333333,
              "#9c179e"
             ],
             [
              0.4444444444444444,
              "#bd3786"
             ],
             [
              0.5555555555555556,
              "#d8576b"
             ],
             [
              0.6666666666666666,
              "#ed7953"
             ],
             [
              0.7777777777777778,
              "#fb9f3a"
             ],
             [
              0.8888888888888888,
              "#fdca26"
             ],
             [
              1,
              "#f0f921"
             ]
            ],
            "type": "histogram2dcontour"
           }
          ],
          "mesh3d": [
           {
            "colorbar": {
             "outlinewidth": 0,
             "ticks": ""
            },
            "type": "mesh3d"
           }
          ],
          "parcoords": [
           {
            "line": {
             "colorbar": {
              "outlinewidth": 0,
              "ticks": ""
             }
            },
            "type": "parcoords"
           }
          ],
          "pie": [
           {
            "automargin": true,
            "type": "pie"
           }
          ],
          "scatter": [
           {
            "fillpattern": {
             "fillmode": "overlay",
             "size": 10,
             "solidity": 0.2
            },
            "type": "scatter"
           }
          ],
          "scatter3d": [
           {
            "line": {
             "colorbar": {
              "outlinewidth": 0,
              "ticks": ""
             }
            },
            "marker": {
             "colorbar": {
              "outlinewidth": 0,
              "ticks": ""
             }
            },
            "type": "scatter3d"
           }
          ],
          "scattercarpet": [
           {
            "marker": {
             "colorbar": {
              "outlinewidth": 0,
              "ticks": ""
             }
            },
            "type": "scattercarpet"
           }
          ],
          "scattergeo": [
           {
            "marker": {
             "colorbar": {
              "outlinewidth": 0,
              "ticks": ""
             }
            },
            "type": "scattergeo"
           }
          ],
          "scattergl": [
           {
            "marker": {
             "colorbar": {
              "outlinewidth": 0,
              "ticks": ""
             }
            },
            "type": "scattergl"
           }
          ],
          "scattermapbox": [
           {
            "marker": {
             "colorbar": {
              "outlinewidth": 0,
              "ticks": ""
             }
            },
            "type": "scattermapbox"
           }
          ],
          "scatterpolar": [
           {
            "marker": {
             "colorbar": {
              "outlinewidth": 0,
              "ticks": ""
             }
            },
            "type": "scatterpolar"
           }
          ],
          "scatterpolargl": [
           {
            "marker": {
             "colorbar": {
              "outlinewidth": 0,
              "ticks": ""
             }
            },
            "type": "scatterpolargl"
           }
          ],
          "scatterternary": [
           {
            "marker": {
             "colorbar": {
              "outlinewidth": 0,
              "ticks": ""
             }
            },
            "type": "scatterternary"
           }
          ],
          "surface": [
           {
            "colorbar": {
             "outlinewidth": 0,
             "ticks": ""
            },
            "colorscale": [
             [
              0,
              "#0d0887"
             ],
             [
              0.1111111111111111,
              "#46039f"
             ],
             [
              0.2222222222222222,
              "#7201a8"
             ],
             [
              0.3333333333333333,
              "#9c179e"
             ],
             [
              0.4444444444444444,
              "#bd3786"
             ],
             [
              0.5555555555555556,
              "#d8576b"
             ],
             [
              0.6666666666666666,
              "#ed7953"
             ],
             [
              0.7777777777777778,
              "#fb9f3a"
             ],
             [
              0.8888888888888888,
              "#fdca26"
             ],
             [
              1,
              "#f0f921"
             ]
            ],
            "type": "surface"
           }
          ],
          "table": [
           {
            "cells": {
             "fill": {
              "color": "#EBF0F8"
             },
             "line": {
              "color": "white"
             }
            },
            "header": {
             "fill": {
              "color": "#C8D4E3"
             },
             "line": {
              "color": "white"
             }
            },
            "type": "table"
           }
          ]
         },
         "layout": {
          "annotationdefaults": {
           "arrowcolor": "#2a3f5f",
           "arrowhead": 0,
           "arrowwidth": 1
          },
          "autotypenumbers": "strict",
          "coloraxis": {
           "colorbar": {
            "outlinewidth": 0,
            "ticks": ""
           }
          },
          "colorscale": {
           "diverging": [
            [
             0,
             "#8e0152"
            ],
            [
             0.1,
             "#c51b7d"
            ],
            [
             0.2,
             "#de77ae"
            ],
            [
             0.3,
             "#f1b6da"
            ],
            [
             0.4,
             "#fde0ef"
            ],
            [
             0.5,
             "#f7f7f7"
            ],
            [
             0.6,
             "#e6f5d0"
            ],
            [
             0.7,
             "#b8e186"
            ],
            [
             0.8,
             "#7fbc41"
            ],
            [
             0.9,
             "#4d9221"
            ],
            [
             1,
             "#276419"
            ]
           ],
           "sequential": [
            [
             0,
             "#0d0887"
            ],
            [
             0.1111111111111111,
             "#46039f"
            ],
            [
             0.2222222222222222,
             "#7201a8"
            ],
            [
             0.3333333333333333,
             "#9c179e"
            ],
            [
             0.4444444444444444,
             "#bd3786"
            ],
            [
             0.5555555555555556,
             "#d8576b"
            ],
            [
             0.6666666666666666,
             "#ed7953"
            ],
            [
             0.7777777777777778,
             "#fb9f3a"
            ],
            [
             0.8888888888888888,
             "#fdca26"
            ],
            [
             1,
             "#f0f921"
            ]
           ],
           "sequentialminus": [
            [
             0,
             "#0d0887"
            ],
            [
             0.1111111111111111,
             "#46039f"
            ],
            [
             0.2222222222222222,
             "#7201a8"
            ],
            [
             0.3333333333333333,
             "#9c179e"
            ],
            [
             0.4444444444444444,
             "#bd3786"
            ],
            [
             0.5555555555555556,
             "#d8576b"
            ],
            [
             0.6666666666666666,
             "#ed7953"
            ],
            [
             0.7777777777777778,
             "#fb9f3a"
            ],
            [
             0.8888888888888888,
             "#fdca26"
            ],
            [
             1,
             "#f0f921"
            ]
           ]
          },
          "colorway": [
           "#636efa",
           "#EF553B",
           "#00cc96",
           "#ab63fa",
           "#FFA15A",
           "#19d3f3",
           "#FF6692",
           "#B6E880",
           "#FF97FF",
           "#FECB52"
          ],
          "font": {
           "color": "#2a3f5f"
          },
          "geo": {
           "bgcolor": "white",
           "lakecolor": "white",
           "landcolor": "#E5ECF6",
           "showlakes": true,
           "showland": true,
           "subunitcolor": "white"
          },
          "hoverlabel": {
           "align": "left"
          },
          "hovermode": "closest",
          "mapbox": {
           "style": "light"
          },
          "paper_bgcolor": "white",
          "plot_bgcolor": "#E5ECF6",
          "polar": {
           "angularaxis": {
            "gridcolor": "white",
            "linecolor": "white",
            "ticks": ""
           },
           "bgcolor": "#E5ECF6",
           "radialaxis": {
            "gridcolor": "white",
            "linecolor": "white",
            "ticks": ""
           }
          },
          "scene": {
           "xaxis": {
            "backgroundcolor": "#E5ECF6",
            "gridcolor": "white",
            "gridwidth": 2,
            "linecolor": "white",
            "showbackground": true,
            "ticks": "",
            "zerolinecolor": "white"
           },
           "yaxis": {
            "backgroundcolor": "#E5ECF6",
            "gridcolor": "white",
            "gridwidth": 2,
            "linecolor": "white",
            "showbackground": true,
            "ticks": "",
            "zerolinecolor": "white"
           },
           "zaxis": {
            "backgroundcolor": "#E5ECF6",
            "gridcolor": "white",
            "gridwidth": 2,
            "linecolor": "white",
            "showbackground": true,
            "ticks": "",
            "zerolinecolor": "white"
           }
          },
          "shapedefaults": {
           "line": {
            "color": "#2a3f5f"
           }
          },
          "ternary": {
           "aaxis": {
            "gridcolor": "white",
            "linecolor": "white",
            "ticks": ""
           },
           "baxis": {
            "gridcolor": "white",
            "linecolor": "white",
            "ticks": ""
           },
           "bgcolor": "#E5ECF6",
           "caxis": {
            "gridcolor": "white",
            "linecolor": "white",
            "ticks": ""
           }
          },
          "title": {
           "x": 0.05
          },
          "xaxis": {
           "automargin": true,
           "gridcolor": "white",
           "linecolor": "white",
           "ticks": "",
           "title": {
            "standoff": 15
           },
           "zerolinecolor": "white",
           "zerolinewidth": 2
          },
          "yaxis": {
           "automargin": true,
           "gridcolor": "white",
           "linecolor": "white",
           "ticks": "",
           "title": {
            "standoff": 15
           },
           "zerolinecolor": "white",
           "zerolinewidth": 2
          }
         }
        }
       }
      }
     },
     "metadata": {},
     "output_type": "display_data"
    }
   ],
   "source": [
    "import plotly.express as px\n",
    "df[\"root\"] = \"Michigan\"\n",
    "fig = px.sunburst(df, path=['root', 'ESA_listing_status', 'common_name'])\n",
    "fig.show()"
   ]
  },
  {
   "cell_type": "code",
   "execution_count": null,
   "metadata": {},
   "outputs": [],
   "source": []
  }
 ],
 "metadata": {
  "kernelspec": {
   "display_name": "base",
   "language": "python",
   "name": "python3"
  },
  "language_info": {
   "codemirror_mode": {
    "name": "ipython",
    "version": 3
   },
   "file_extension": ".py",
   "mimetype": "text/x-python",
   "name": "python",
   "nbconvert_exporter": "python",
   "pygments_lexer": "ipython3",
   "version": "3.11.4"
  }
 },
 "nbformat": 4,
 "nbformat_minor": 2
}
