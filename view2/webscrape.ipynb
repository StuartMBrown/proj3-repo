{
 "cells": [
  {
   "cell_type": "code",
   "execution_count": 13,
   "metadata": {},
   "outputs": [],
   "source": [
    "import requests\n",
    "from bs4 import BeautifulSoup\n",
    "import pandas as pd\n",
    "from splinter import Browser\n",
    "import time "
   ]
  },
  {
   "cell_type": "code",
   "execution_count": 17,
   "metadata": {},
   "outputs": [],
   "source": [
    "browser = Browser('chrome')"
   ]
  },
  {
   "cell_type": "code",
   "execution_count": 19,
   "metadata": {},
   "outputs": [],
   "source": [
    "states = [\n",
    "    {'abbrev': 'MN', 'name': 'Minnesota'},\n",
    "    {'abbrev': 'NY', 'name': 'New York'},\n",
    "    {'abbrev': 'IL', 'name': 'Illinois'},\n",
    "    {'abbrev': 'IN', 'name': 'Indiana'},\n",
    "    {'abbrev': 'MI', 'name': 'Michgan'},\n",
    "    {'abbrev': 'OH', 'name': 'Ohio'},\n",
    "    {'abbrev': 'PA', 'name': 'Pennslyvania'},\n",
    "    {'abbrev': 'WI', 'name': 'Wisconsin'}\n",
    "\n",
    "]"
   ]
  },
  {
   "cell_type": "code",
   "execution_count": 24,
   "metadata": {},
   "outputs": [],
   "source": [
    "for state in states:\n",
    "    base_url = 'https://ecos.fws.gov/ecp/report/species-listings-by-state'\n",
    "    url = f\"{base_url}?stateAbbrev={state['abbrev']}&stateName={state['name']}&statusCategory=Listed\"\n",
    "    time.sleep(5)\n",
    "    browser.visit(url)\n",
    "\n",
    "    browser.find_by_xpath(\"//select[@name='species-listings-by-state-report_length']/option[text()='All']\").click()\n",
    "   \n",
    "   # Send an HTTP request to the page and retrieve the HTML content\n",
    "    response = requests.get(url)\n",
    "    html_content = response.content\n",
    "    \n",
    "    # Create a BeautifulSoup object by parsing the HTML content\n",
    "    soup = BeautifulSoup(html_content, 'html.parser')\n",
    "    for row in soup.find_all('tr'):\n",
    "        columns = row.find_all('td')\n",
    "        if len(columns) == 5:  \n",
    "            species_name = columns[0].text.strip()\n",
    "            common_name = columns[1].text.strip()\n",
    "            where_listed = columns[2].text.strip()\n",
    "            reigon = columns[3].text.strip()\n",
    "            ESA_listing_status = columns[4].text.strip()"
   ]
  }
 ],
 "metadata": {
  "kernelspec": {
   "display_name": "dev",
   "language": "python",
   "name": "python3"
  },
  "language_info": {
   "codemirror_mode": {
    "name": "ipython",
    "version": 3
   },
   "file_extension": ".py",
   "mimetype": "text/x-python",
   "name": "python",
   "nbconvert_exporter": "python",
   "pygments_lexer": "ipython3",
   "version": "3.10.13"
  }
 },
 "nbformat": 4,
 "nbformat_minor": 2
}
