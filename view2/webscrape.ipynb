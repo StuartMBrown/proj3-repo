{
 "cells": [
  {
   "cell_type": "code",
   "execution_count": null,
   "metadata": {},
   "outputs": [],
   "source": [
    "import requests\n",
    "from bs4 import BeautifulSoup\n",
    "\n",
    "url = \"https://ecos.fws.gov/ecp/report/species-listings-by-state-totals?statusCategory=Listed\"\n",
    "\n",
    "def scrape_website(url):\n",
    "    # Send an HTTP request to the URL\n",
    "    response = requests.get(url)\n",
    "\n",
    "    # Check if the request was successful (status code 200)\n",
    "    if response.status_code == 200:\n",
    "        # Parse the HTML content using Beautiful Soup\n",
    "        soup = BeautifulSoup(response.text, 'html.parser')\n",
    "\n",
    "        # Extract information from the HTML structure\n",
    "        # Modify the code based on the structure of the specific website you are scraping\n",
    "        title = soup.title.text.strip()\n",
    "        paragraphs = [p.text.strip() for p in soup.find_all('p')]\n",
    "\n",
    "        return {\n",
    "            'title': title,\n",
    "            'paragraphs': paragraphs\n",
    "        }\n",
    "    else:\n",
    "        print(f\"Failed to retrieve the page. Status code: {response.status_code}\")\n",
    "        return None\n",
    "\n",
    "if __name__ == '__main__':\n",
    "    target_url = 'https://ecos.fws.gov/ecp/report/species-listings-by-state-totals?statusCategory=Listed'\n",
    "\n",
    "    # Call the scraping function\n",
    "    result = scrape_website(target_url)\n",
    "\n",
    "    # Display the scraped information\n",
    "    if result:\n",
    "        print(f\"Title: {result['title']}\")\n",
    "        print(\"Paragraphs:\")\n",
    "        for idx, paragraph in enumerate(result['paragraphs'], start=1):\n",
    "            print(f\"{idx}. {paragraph}\")\n"
   ]
  }
 ],
 "metadata": {
  "language_info": {
   "name": "python"
  }
 },
 "nbformat": 4,
 "nbformat_minor": 2
}
